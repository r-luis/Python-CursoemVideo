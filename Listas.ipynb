{
  "nbformat": 4,
  "nbformat_minor": 0,
  "metadata": {
    "colab": {
      "name": "Listas.ipynb",
      "provenance": [],
      "authorship_tag": "ABX9TyN3gBVW6uahquHvFabunf8a",
      "include_colab_link": true
    },
    "kernelspec": {
      "name": "python3",
      "display_name": "Python 3"
    }
  },
  "cells": [
    {
      "cell_type": "markdown",
      "metadata": {
        "id": "view-in-github",
        "colab_type": "text"
      },
      "source": [
        "<a href=\"https://colab.research.google.com/github/r-luis/Python-CursoemVideo/blob/master/Listas.ipynb\" target=\"_parent\"><img src=\"https://colab.research.google.com/assets/colab-badge.svg\" alt=\"Open In Colab\"/></a>"
      ]
    },
    {
      "cell_type": "markdown",
      "metadata": {
        "id": "bcGCRuDCZH2_",
        "colab_type": "text"
      },
      "source": [
        "#***Teoria (Parte 1)***\n",
        "---\n",
        "**a.append('valor')** - adicionar itens a uma lista </br>\n",
        "**a.insert(casa,'valor')** - adicionar itens em uma casa </br>\n",
        "**a.extend(lista)** - adiciona uma lista dentro de outra lista </br>\n",
        "**del a[casa]** - deleta o valor de uma casa especificada </br>\n",
        "**a.pop(casa)** - deleta também, normalmente usado para o último valor, mas também serve para apagar casas especificadas </br>\n",
        "**a.remove('valor')** - deleta um valor especificado, não precisa mostrar a casa, apenas o valor </br>\n",
        "**a = list()** - cria uma lista. A quantidade pode ser especificada com o operador range. </br>\n",
        "**a.sort()** - Ordenar a lista em ordem de grandeza. Para fazer o reverso, especificar como (reverse=True) </br>\n",
        "**a.index(valor)** - Encontrar a posição de algo na lista"
      ]
    },
    {
      "cell_type": "code",
      "metadata": {
        "id": "b0emDSjeXblI",
        "colab_type": "code",
        "colab": {}
      },
      "source": [
        "lista = []\n",
        "lista.append(9)\n",
        "lista.append(4)\n",
        "lista.append(2)\n",
        "\n",
        "inserir = int(input('Número: '))\n",
        "lista.append(inserir)\n",
        "\n",
        "print(lista)\n",
        "\n",
        "for cont, valor in enumerate(lista):\n",
        "  print(f'Casa {cont + 1}: {valor}')"
      ],
      "execution_count": null,
      "outputs": []
    },
    {
      "cell_type": "code",
      "metadata": {
        "id": "CsfH9TKVhABM",
        "colab_type": "code",
        "colab": {}
      },
      "source": [
        "numeros = list()\n",
        "try:\n",
        "  quant = int(input('Quantos números você quer adicionar a lista? '))\n",
        "\n",
        "  for c in range (0, quant):\n",
        "    valor = int(input(f'Digite o {c + 1}º número: '))\n",
        "    numeros.append(valor)\n",
        "\n",
        "  print(f'Sua lista está como {numeros}.')\n",
        "  \n",
        "  deletar = int(input('Qual valor você quer retirar? '))\n",
        "  numeros.remove(deletar)\n",
        "\n",
        "  print(f'A lista está finalizada como {numeros}.')\n",
        "except:\n",
        "  print('Erro')"
      ],
      "execution_count": null,
      "outputs": []
    },
    {
      "cell_type": "markdown",
      "metadata": {
        "id": "vlQiamlPt8xa",
        "colab_type": "text"
      },
      "source": [
        "#***Prática - Exercícios (Parte 1)***\n",
        "---\n"
      ]
    },
    {
      "cell_type": "markdown",
      "metadata": {
        "id": "UipwO6wz0eNX",
        "colab_type": "text"
      },
      "source": [
        "**Exercício Python 078:**</br>\n",
        " Faça um programa que leia 5 valores numéricos e guarde-os em uma lista. No final, mostre qual foi o maior e o menor valor digitado e as suas respectivas posições na lista."
      ]
    },
    {
      "cell_type": "code",
      "metadata": {
        "id": "NXIz25Df0dai",
        "colab_type": "code",
        "colab": {}
      },
      "source": [
        "num = []\n",
        "maior = menor = 0\n",
        "\n",
        "for c in range (0, 5):\n",
        "  dig = int(input(f'Digite o {c+1}º número: '))\n",
        "  num.append(dig)\n",
        "  '''if c == 0:\n",
        "    maior = menor = num[c]\n",
        "  else:\n",
        "    if num[c] > maior:\n",
        "      maior = num[c]\n",
        "    elif num[c] < menor:\n",
        "      menor = num[c]'''\n",
        "\n",
        "maior = max(num)\n",
        "menor = min(num)\n",
        "\n",
        "\n",
        "print(f'Lista: {num}')\n",
        "\n",
        "print(f'O maior número digitado foi: {maior} na posição ', end='')\n",
        "for i, v in enumerate(num):\n",
        "  if v == maior:\n",
        "    print((i + 1), end='...')\n",
        "\n",
        "print(f'\\nO menor número digitado foi: {menor} na posição ', end='')\n",
        "for i, v in enumerate(num):\n",
        "  if v == menor:\n",
        "    print((i + 1), end='...')\n"
      ],
      "execution_count": null,
      "outputs": []
    },
    {
      "cell_type": "markdown",
      "metadata": {
        "id": "jOigmzq-6BYU",
        "colab_type": "text"
      },
      "source": [
        "**Exercício Python 079:**</br>\n",
        "Crie um programa onde o usuário possa digitar vários valores numéricos e cadastre-os em uma lista. Caso o número já exista lá dentro, ele não será adicionado. No final, serão exibidos todos os valores únicos digitados, em ordem crescente."
      ]
    },
    {
      "cell_type": "code",
      "metadata": {
        "id": "1UjitootvQCz",
        "colab_type": "code",
        "colab": {}
      },
      "source": [
        "lista = []\n",
        "resp = ''\n",
        "\n",
        "while True:\n",
        "  num = int(input('Digite um número: '))\n",
        "  if num not in lista:\n",
        "    lista.append(num)\n",
        "    print('Adicionado com sucesso...')\n",
        "  else:\n",
        "    print('O número já existe e não será adicionado a lista.')\n",
        "  \n",
        "  resp = str(input('Quer continuar: [S/N] ').strip().upper())\n",
        "  if resp in 'Nn':\n",
        "    break\n",
        "    \n",
        "print(lista)\n",
        "lista.sort()\n",
        "print('-='*30)\n",
        "print(f'A lista que você digitou em ordem é essa: {lista}')"
      ],
      "execution_count": null,
      "outputs": []
    },
    {
      "cell_type": "markdown",
      "metadata": {
        "id": "hHH7Y_BRuUMd",
        "colab_type": "text"
      },
      "source": [
        "**Exercício Python 080:** </br>\n",
        "Crie um programa onde o usuário possa digitar cinco valores numéricos e cadastre-os em uma lista, já na posição correta de inserção (sem usar o sort()). No final, mostre a lista ordenada na tela."
      ]
    },
    {
      "cell_type": "code",
      "metadata": {
        "id": "LakDrbJmQlVC",
        "colab_type": "code",
        "colab": {}
      },
      "source": [
        "#solução minha\n",
        "lista = []\n",
        "for c in range(0, 5):\n",
        "  num = int(input('Número: '))\n",
        "\n",
        "  if c == 0 or num > lista[-1]:\n",
        "    lista.append(num)\n",
        "  else:\n",
        "    pos = 0\n",
        "    while pos < len(lista):\n",
        "      if num <= lista[pos]:\n",
        "        lista.insert(pos, num)\n",
        "        break\n",
        "      pos += 1\n",
        "\n",
        "print(lista)"
      ],
      "execution_count": null,
      "outputs": []
    },
    {
      "cell_type": "code",
      "metadata": {
        "id": "CGojg8KeuvOC",
        "colab_type": "code",
        "colab": {}
      },
      "source": [
        "#corrigido\n",
        "lista = list()\n",
        "for c in range (0, 5):\n",
        "  num = int(input(f'Digite o {c+1}º número: '))\n",
        "  #Lendo o número da primeira vez ou no caso de o número for ser adicionado ao fim da lista.\n",
        "  if c == 0 or num > lista[len(lista)-1]:\n",
        "    lista.append(num)\n",
        "    print('Adicionado ao final da lista.')\n",
        "  else:\n",
        "    #encontrando a posição dos números no meio da lista.\n",
        "    pos = 0\n",
        "    while pos < len(lista):\n",
        "      if num <= lista[pos]:\n",
        "        lista.insert(pos, num)\n",
        "        print(f'Adicionado na posição {pos} da lista.')\n",
        "        break\n",
        "      pos += 1\n",
        "\n",
        "print('-='*30)\n",
        "print(f'Lista: {lista}')"
      ],
      "execution_count": null,
      "outputs": []
    },
    {
      "cell_type": "markdown",
      "metadata": {
        "id": "wnMCZnIX1KeV",
        "colab_type": "text"
      },
      "source": [
        "**Exercício Python 081:** </br>\n",
        "Crie um programa que vai ler vários números e colocar em uma lista. Depois disso, mostre:\n",
        "<br>A) *Quantos números foram digitados.*\n",
        "<br>B) *A lista de valores, ordenada de forma decrescente.*\n",
        "<br>C) *Se o valor 5 foi digitado e está ou não na lista.*"
      ]
    },
    {
      "cell_type": "code",
      "metadata": {
        "id": "-e66U_eM2Ha0",
        "colab_type": "code",
        "colab": {}
      },
      "source": [
        "lista = []\n",
        "\n",
        "while True:\n",
        "  num = int(input('Digite um número: '))\n",
        "  lista.append(num)\n",
        "  resp = str(input('Quer continuar? [S/N] ')).strip()\n",
        "\n",
        "  if resp in 'Nn':\n",
        "      break\n",
        "\n",
        "print('-='*30)\n",
        "\n",
        "print(f'{len(lista)} números foram digitados.')\n",
        "lista.sort(reverse=True)\n",
        "print(f'Lista dos valores digitados: {lista}.')\n",
        "if 5 in lista:\n",
        "  print('O número 5 está na lista.')\n",
        "else:\n",
        "  print('O número 5 não está na lista.')"
      ],
      "execution_count": null,
      "outputs": []
    },
    {
      "cell_type": "markdown",
      "metadata": {
        "id": "h1bvNz9mOQOq",
        "colab_type": "text"
      },
      "source": [
        "**Exercício Python 082:** </br>\n",
        "Crie um programa que vai ler vários números e colocar em uma lista. Depois disso, crie duas listas extras que vão conter apenas os valores pares e os valores ímpares digitados, respectivamente. Ao final, mostre o conteúdo das três listas geradas."
      ]
    },
    {
      "cell_type": "code",
      "metadata": {
        "id": "CNDI-5dXSoQH",
        "colab_type": "code",
        "colab": {}
      },
      "source": [
        "lista = []\n",
        "pares = []\n",
        "impares = []\n",
        "\n",
        "#Começo do Loop dos valores\n",
        "while True:\n",
        "  try:\n",
        "    lista.append(int(input('Digite um valor: ')))\n",
        "  except:\n",
        "    print('Erro de digitação, digite novamente.')\n",
        "    continue\n",
        "  resp = str(input('Quer continuar? [S/N] '))\n",
        "  #Loop para erros de digitação\n",
        "  while resp not in 'SsNn':\n",
        "    print('Erro de digitação, digite novamente.')\n",
        "    resp = str(input('Quer continuar? [S/N] '))\n",
        "\n",
        "  if resp in 'Nn':\n",
        "    break\n",
        "\n",
        "#Separando os valores da lista em pares e impares\n",
        "for i in range(len(lista)):\n",
        "  if lista[i] % 2 == 0:\n",
        "    pares.append(lista[i])\n",
        "  else:\n",
        "    impares.append(lista[i])\n",
        "\n",
        "print('-='*30)\n",
        "print(f'Os valores digitados foram: {lista}')\n",
        "print(f'Dentro desses valores {pares} são pares, e {impares} são ímpares.')\n"
      ],
      "execution_count": null,
      "outputs": []
    },
    {
      "cell_type": "markdown",
      "metadata": {
        "id": "AwTh4--FbA8E",
        "colab_type": "text"
      },
      "source": [
        "**Exercício Python 083:**</br>\n",
        "Crie um programa onde o usuário digite uma expressão qualquer que use parênteses. Seu aplicativo deverá analisar se a expressão passada está com os parênteses abertos e fechados na ordem correta."
      ]
    },
    {
      "cell_type": "code",
      "metadata": {
        "id": "5OQp-8qvHfgI",
        "colab_type": "code",
        "colab": {}
      },
      "source": [
        "#solução mais correta - Guanabara\n",
        "expressão = str(input('Digite uma expressão matemática que tenha parênteses: '))\n",
        "cort = []\n",
        "\n",
        "for c in expressão:\n",
        "  #adicionando a abertura de parênteses\n",
        "  if c == '(':\n",
        "    cort.append('(')\n",
        "  #criando o if para fechar o parênteses\n",
        "  elif c == ')':\n",
        "    if len(cort) > 0:\n",
        "      cort.pop() #toda vez que tiver um parênteses aberto, ele anula o outro.\n",
        "    else:\n",
        "      cort.append(')')\n",
        "      break\n",
        "\n",
        "if len(cort) == 0:\n",
        "  print('Sua expressão está correta.')\n",
        "else:\n",
        "  print('Sua expressão está incorreta.')"
      ],
      "execution_count": null,
      "outputs": []
    },
    {
      "cell_type": "code",
      "metadata": {
        "id": "rrdLpTmRmFyn",
        "colab_type": "code",
        "colab": {}
      },
      "source": [
        "#minha solução\n",
        "expressão = str(input('Digite uma expressão matemática que tenha parênteses: '))\n",
        "cort = list(expressão)\n",
        "contp1 = contp2 = 0\n",
        "\n",
        "for i, v in enumerate(cort):\n",
        "  if cort[i] == '(':\n",
        "    contp1 += 1\n",
        "  elif cort[i] == ')':\n",
        "    contp2 += 1\n",
        "\n",
        "if contp1 == 0 and contp2 == 0:\n",
        "  print('A expressão está incorreta.')\n",
        "elif contp1 == contp2:\n",
        "  print('A expressão está correta.')\n",
        "else:\n",
        "  print('A expressão está incorreta.')\n",
        "\n",
        "print(contp1, contp2)"
      ],
      "execution_count": null,
      "outputs": []
    },
    {
      "cell_type": "markdown",
      "metadata": {
        "id": "djCy6vS9KTld",
        "colab_type": "text"
      },
      "source": [
        "#***Teoria (Parte 2)***\n",
        "---\n",
        "`pessoas = [['João', 19], ['Maria', 18], ['Pedro', 21]]` - Listas podem ser colocadas dentro de outras listas. </br>\n",
        "`dados.append(lista[:])` - Com esse comando se pode adicionar uma lista dentro de outra lista, o '[:]' significa que o programa fará uma cópia da lista. </br>\n",
        "`print(pessoas[0][0])` - O primeiro colchete chama a casa que está a lista, e a segunda chama um item que está dentro dessa outra lista."
      ]
    },
    {
      "cell_type": "code",
      "metadata": {
        "id": "Q2L-je_1cYIP",
        "colab_type": "code",
        "colab": {}
      },
      "source": [
        "teste = []\n",
        "galera = []\n",
        "teste.append('Kusanagi')\n",
        "teste.append(23)\n",
        "galera.append(teste[:])\n",
        "\n",
        "teste[0] = 'Kaiju'\n",
        "teste[1] = 25\n",
        "\n",
        "#galera.append(teste) - Nesse caso foi feita uma ligação entre as listas por não ter o '[:]', então sempre que uma é alterada, a outra também é\n",
        "galera.append(teste[:])\n",
        "\n",
        "print(galera)"
      ],
      "execution_count": null,
      "outputs": []
    },
    {
      "cell_type": "code",
      "metadata": {
        "id": "roFWWVhZd323",
        "colab_type": "code",
        "colab": {}
      },
      "source": [
        "pessoas = [['João', 19], ['Maria', 18], ['Pedro', 21], ['Bia', 24]] \n",
        "#printando o conteúdo todo de um bloco dentro de uma lista\n",
        "print(pessoas[0])\n",
        "print('-'*20)\n",
        "\n",
        "for p in pessoas:\n",
        "  #print(p[0])\n",
        "  print(f'{p[0]}, {p[1]} anos.')\n",
        "\n",
        "#printando parte desse bloco\n",
        "print(f'{pessoas[3][0]}, {pessoas[3][1]} anos.')\n"
      ],
      "execution_count": null,
      "outputs": []
    },
    {
      "cell_type": "code",
      "metadata": {
        "id": "1AjlfUsAh5N0",
        "colab_type": "code",
        "colab": {}
      },
      "source": [
        "galera = []\n",
        "dado = []\n",
        "totmai = totmen = 0\n",
        "\n",
        "for c in range(0,3):\n",
        "  dado.append(str(input('Nome: ')))\n",
        "  dado.append(int(input('Idade: ')))\n",
        "  galera.append(dado[:]) #faz uma cópia do dado inserido e adiciona a outra lista\n",
        "  dado.clear() #apaga o que foi inserido na lista 'dado'\n",
        "\n",
        "for p in galera:\n",
        "  if p[1] >= 18:\n",
        "    print(f'{p[0]} é maior de idade.')\n",
        "    totmai += 1\n",
        "  else:\n",
        "    print(f'{p[0]} é menor de idade.')\n",
        "    totmen += 1\n",
        "\n",
        "print(f'Maiores de idade: {totmai}\\nMenores de Idade: {totmen}')\n",
        "#print(galera)"
      ],
      "execution_count": null,
      "outputs": []
    },
    {
      "cell_type": "markdown",
      "metadata": {
        "id": "jbURtdnlw90q",
        "colab_type": "text"
      },
      "source": [
        "#***Prática - Exercícios (Parte 2)***\n",
        "---"
      ]
    },
    {
      "cell_type": "markdown",
      "metadata": {
        "id": "c_UidgwXxLKK",
        "colab_type": "text"
      },
      "source": [
        "**Exercício Python 084:** </br>\n",
        "Faça um programa que leia nome e peso de várias pessoas, guardando tudo em uma lista. No final, mostre:\n",
        "<br>A) Quantas pessoas foram cadastradas.\n",
        "<br>B) Uma listagem com as pessoas mais pesadas.\n",
        "<br>C) Uma listagem com as pessoas mais leves."
      ]
    },
    {
      "cell_type": "code",
      "metadata": {
        "id": "XgZVJMxlxKsU",
        "colab_type": "code",
        "colab": {}
      },
      "source": [
        "lista = list()\n",
        "pessoas = list() #temporário\n",
        "max = min = 0\n",
        "\n",
        "while True:\n",
        "  pessoas.append(str(input('Nome: ')))\n",
        "  pessoas.append(float(input('Peso: ')))\n",
        "\n",
        "  #cálculo do maior e menor\n",
        "  if len(lista) == 0:\n",
        "    max = min = pessoas[1]\n",
        "  else:\n",
        "    if pessoas[1] > max:\n",
        "      max = pessoas[1]\n",
        "    elif pessoas[1] < min:\n",
        "      min = pessoas[1]\n",
        "\n",
        "  lista.append(pessoas[:])\n",
        "  pessoas.clear()\n",
        "  resp = str(input('Quer cadastrar mais pessoas? [S/N] ')).strip()\n",
        "\n",
        "  #loop continuar\n",
        "  if resp in 'Ss':\n",
        "    continue\n",
        "  elif resp in 'Nn':\n",
        "    break\n",
        "  else:\n",
        "    print('Erro. Digite novamente.')\n",
        "    resp = str(input('Quer cadastrar mais pessoas? [S/N] ')).strip()\n",
        "    if resp in 'Ss':\n",
        "      continue\n",
        "    elif resp in 'Nn':\n",
        "      break\n",
        "print('-='*30)\n",
        "#tratamento e avaliação dos dados\n",
        "print(f'Foram cadastradas {len(lista)} pessoas.') \n",
        "print(f'O maior peso cadastrado foi de {max}KG em: ', end='')\n",
        "for p in lista:\n",
        "  if p[1] == max:\n",
        "    print(f'[{p[0]}]', end='')\n",
        "print(f'\\nO menor peso cadastrado foi de {min}KG em: ', end='')\n",
        "for p in lista:\n",
        "  if p[1] == min:\n",
        "    print(f'[{p[0]}]', end='')\n",
        "\n",
        "#print(lista)"
      ],
      "execution_count": null,
      "outputs": []
    },
    {
      "cell_type": "markdown",
      "metadata": {
        "id": "hcZb_DT2LMiL",
        "colab_type": "text"
      },
      "source": [
        "**Exercício Python 085:** </br>\n",
        "Crie um programa onde o usuário possa digitar sete valores numéricos e cadastre-os em uma lista única que mantenha separados os valores pares e ímpares. No final, mostre os valores pares e ímpares em ordem crescente."
      ]
    },
    {
      "cell_type": "code",
      "metadata": {
        "id": "v_3MCtKrLQda",
        "colab_type": "code",
        "colab": {}
      },
      "source": [
        "lista = [[], []]\n",
        "for c in range(0, 7):\n",
        "  num = int(input(f'Digite o {c+1}º número: '))\n",
        "\n",
        "  if num % 2 == 0:\n",
        "    lista[0].append(num)\n",
        "  else:\n",
        "    lista[1].append(num)\n",
        "\n",
        "lista[0].sort()\n",
        "lista[1].sort()\n",
        "print('-='*30)\n",
        "print(f'Números pares: {lista[0]}')\n",
        "print(f'Números ímpares: {lista[1]}')"
      ],
      "execution_count": null,
      "outputs": []
    },
    {
      "cell_type": "markdown",
      "metadata": {
        "id": "P4vkkohQr_yY",
        "colab_type": "text"
      },
      "source": [
        "**Exercício Python 086:**</br>\n",
        " Crie um programa que declare uma matriz de dimensão 3×3 e preencha com valores lidos pelo teclado. No final, mostre a matriz na tela, com a formatação correta."
      ]
    },
    {
      "cell_type": "code",
      "metadata": {
        "id": "jZBseEjKsEOV",
        "colab_type": "code",
        "colab": {}
      },
      "source": [
        "#Minha solução\n",
        "linha1 = []\n",
        "linha2 = []\n",
        "linha3 = []\n",
        "\n",
        "for c in range (0, 3):\n",
        "  coluna1 = int(input(f'Digite o número para a posição [1, {c+1}]: '))\n",
        "  linha1.append(coluna1)\n",
        "for c in range (0, 3):\n",
        "  coluna2 = int(input(f'Digite o número para a posição [2, {c+1}]: '))\n",
        "  linha2.append(coluna2)\n",
        "for c in range (0, 3):\n",
        "  coluna3 = int(input(f'Digite o número para a posição [3, {c+1}]: '))\n",
        "  linha3.append(coluna3)\n",
        "\n",
        "print('-='*30)  \n",
        "\n",
        "for i, c in enumerate(linha1):\n",
        "  print(f'[{linha1[i]:^5}]', end=' ')\n",
        "print()\n",
        "for i, c in enumerate(linha2):\n",
        "  print(f'[{linha2[i]:^5}]', end=' ')\n",
        "print()\n",
        "for i, c in enumerate(linha3):\n",
        "  print(f'[{linha3[i]:^5}]', end=' ')"
      ],
      "execution_count": null,
      "outputs": []
    },
    {
      "cell_type": "code",
      "metadata": {
        "id": "HgxQwyOg7irZ",
        "colab_type": "code",
        "colab": {}
      },
      "source": [
        "#Correção Guanabara\n",
        "matriz = [[0, 0, 0], [0, 0, 0], [0, 0, 0]]\n",
        "corte = '-='\n",
        "\n",
        "for l in range(0, 3):\n",
        "  for c in range(0, 3):\n",
        "    matriz[l][c] = int(input(f'Digite o número na posição [{l+1}, {c+1}]: '))\n",
        "print(f'{corte*5}RESULTADO{corte*5}')\n",
        "for l in range(0, 3):\n",
        "  for c in range(0, 3):\n",
        "    print(f'[{matriz[l][c]:^5}]', end='')\n",
        "  print()"
      ],
      "execution_count": null,
      "outputs": []
    },
    {
      "cell_type": "markdown",
      "metadata": {
        "id": "mV7kRfzQBM4w",
        "colab_type": "text"
      },
      "source": [
        "**Exercício Python 087:** </br>\n",
        "Aprimore o desafio anterior, mostrando no final: </br>\n",
        "*A) A soma de todos os valores pares digitados*. </br>\n",
        "*B) A soma dos valores da terceira coluna.* </br>\n",
        "*C) O maior valor da segunda linha.*"
      ]
    },
    {
      "cell_type": "code",
      "metadata": {
        "id": "LYUlaGOzBije",
        "colab_type": "code",
        "colab": {}
      },
      "source": [
        "#Base: Meu exercício\n",
        "linha1 = []\n",
        "linha2 = []\n",
        "linha3 = []\n",
        "pares = []\n",
        "\n",
        "for c in range (0, 3):\n",
        "  coluna1 = int(input(f'Digite o número para a posição [1, {c+1}]: '))\n",
        "  if coluna1 % 2 == 0:\n",
        "    pares.append(coluna1)\n",
        "  linha1.append(coluna1)\n",
        "for c in range (0, 3):\n",
        "  coluna2 = int(input(f'Digite o número para a posição [2, {c+1}]: '))\n",
        "  if coluna2 % 2 == 0:\n",
        "    pares.append(coluna2)\n",
        "  linha2.append(coluna2)\n",
        "for c in range (0, 3):\n",
        "  coluna3 = int(input(f'Digite o número para a posição [3, {c+1}]: '))\n",
        "  if coluna3 % 2 == 0:\n",
        "    pares.append(coluna3)\n",
        "  linha3.append(coluna3)\n",
        "\n",
        "print('-='*30)  \n",
        "\n",
        "for i, c in enumerate(linha1):\n",
        "  print(f'[{linha1[i]:^5}]', end=' ')\n",
        "print()\n",
        "for i, c in enumerate(linha2):\n",
        "  print(f'[{linha2[i]:^5}]', end=' ')\n",
        "print()\n",
        "for i, c in enumerate(linha3):\n",
        "  print(f'[{linha3[i]:^5}]', end=' ')\n",
        "print()\n",
        "print('-='*25)  \n",
        "\n",
        "print(f'A soma de todos os números pares digitados é {sum(pares)};')\n",
        "print(f'A soma dos valores da 3ª coluna é {linha1[2] + linha2[2] + linha3[2]};')\n",
        "print(f'E o maior valor da segunda linha é {max(linha2)}.')"
      ],
      "execution_count": null,
      "outputs": []
    },
    {
      "cell_type": "code",
      "metadata": {
        "id": "bv4t3q7sEV30",
        "colab_type": "code",
        "colab": {}
      },
      "source": [
        "#Base: Correção Guanabara\n",
        "matriz = [[0, 0, 0], [0, 0, 0], [0, 0, 0]]\n",
        "pares = []\n",
        "corte = '-='\n",
        "\n",
        "for l in range(0, 3):\n",
        "  for c in range(0, 3):\n",
        "    matriz[l][c] = int(input(f'Digite o número na posição [{l+1}, {c+1}]: '))\n",
        "    if matriz[l][c] % 2 == 0:\n",
        "      pares.append(matriz[l][c])\n",
        "print(f'{corte*5}RESULTADO{corte*5}')\n",
        "for l in range(0, 3):\n",
        "  for c in range(0, 3):\n",
        "    print(f'[{matriz[l][c]:^5}]', end='')\n",
        "  print()\n",
        "\n",
        "print(f'A soma dos números pares digitados é {sum(pares)};')\n",
        "print(f'A soma dos valores da 3ª coluna é {matriz[0][2] + matriz[1][2] + matriz[2][2]}')\n",
        "print(f'O maior valor da segunda linha é {max(matriz[1])}')"
      ],
      "execution_count": null,
      "outputs": []
    },
    {
      "cell_type": "code",
      "metadata": {
        "id": "aWStYrPBHWhY",
        "colab_type": "code",
        "colab": {}
      },
      "source": [
        "#Solução Guanabara\n",
        "matriz = [[0, 0, 0], [0, 0, 0], [0, 0, 0]]\n",
        "par = scol = mai = 0\n",
        "corte = '-='\n",
        "\n",
        "for l in range(0, 3):\n",
        "  for c in range(0, 3):\n",
        "    matriz[l][c] = int(input(f'Digite o número na posição [{l+1}, {c+1}]: '))\n",
        "print(f'{corte*5}RESULTADO{corte*5}')\n",
        "for l in range(0, 3):\n",
        "  for c in range(0, 3):\n",
        "    print(f'[{matriz[l][c]:^5}]', end='')\n",
        "    if matriz[l][c] % 2 == 0:\n",
        "      par += matriz[l][c]\n",
        "  print()\n",
        "\n",
        "print(f'Soma pares: {par}')\n",
        "for l in range(0, 3):\n",
        "  scol += matriz[l][2]\n",
        "print(f'Soma coluna 3: {scol}')\n",
        "for c in range(0, 3):\n",
        "  if c == 0:\n",
        "    mai = matriz[1][c]\n",
        "  elif matriz[1][c] > mai:\n",
        "    mai = matriz[1][c]\n",
        "print(f'Maior da 2ª linha: {mai}')"
      ],
      "execution_count": null,
      "outputs": []
    },
    {
      "cell_type": "markdown",
      "metadata": {
        "id": "RsPWSVi4Ny_g",
        "colab_type": "text"
      },
      "source": [
        "**Exercício Python 088:** </br>\n",
        "Faça um programa que ajude um jogador da MEGA SENA a criar palpites. O programa vai perguntar quantos jogos serão gerados e vai sortear 6 números entre 1 e 60 para cada jogo, cadastrando tudo em uma lista composta."
      ]
    },
    {
      "cell_type": "code",
      "metadata": {
        "id": "DeWMD8sSB39p",
        "colab_type": "code",
        "colab": {}
      },
      "source": [
        "#minha solução\n",
        "from random import randint\n",
        "from time import sleep\n",
        "lista = []\n",
        "cont = 0\n",
        "corte = '-='\n",
        "\n",
        "print(f'{corte*5} MEGA SENA {corte*5}')\n",
        "\n",
        "numjogos = int(input('Quantos jogos você quer fazer? '))\n",
        "print('CARREGANDO...')\n",
        "sleep(1)\n",
        "\n",
        "print(f'{corte*5} JOGOS {corte*5}')\n",
        "\n",
        "for c in range(0, numjogos):\n",
        "  for c in range(0, 6):\n",
        "    num = randint(1, 60)\n",
        "    lista.append(num)\n",
        "\n",
        "  for i in range(0, 6):\n",
        "    print(f'{lista[i]:^2}', end=' ')\n",
        "  sleep(0.5)\n",
        "  print()\n",
        "  lista.clear()\n",
        "\n",
        "print(f'{corte*5} BOA SORTE! {corte*5}')"
      ],
      "execution_count": null,
      "outputs": []
    },
    {
      "cell_type": "code",
      "metadata": {
        "id": "OgkllwVITuMF",
        "colab_type": "code",
        "colab": {}
      },
      "source": [
        "#Correção Guanabara\n",
        "from random import randint\n",
        "from time import sleep\n",
        "lista = []\n",
        "jogos = []\n",
        "tot = 0\n",
        "\n",
        "corte = '-='\n",
        "\n",
        "print(f'{corte*5} MEGA SENA {corte*5}')\n",
        "\n",
        "numjogos = int(input('Quantos jogos você quer fazer? '))\n",
        "tot = 1\n",
        "print('CARREGANDO...')\n",
        "sleep(1)\n",
        "\n",
        "print(f'{corte*3} SORTEANDO {numjogos} JOGOS {corte*3}')\n",
        "\n",
        "while tot <= numjogos:\n",
        "  cont = 0\n",
        "  while True:\n",
        "    num = randint(1, 60)\n",
        "    if num not in lista:\n",
        "      lista.append(num)\n",
        "      cont += 1\n",
        "    if cont >= 6:\n",
        "      break\n",
        "  lista.sort()\n",
        "  jogos.append(lista[:])\n",
        "  lista.clear()\n",
        "  tot += 1\n",
        "\n",
        "for i, l in enumerate(jogos):\n",
        "  sleep(0.5)\n",
        "  print(f'{i+1}º JOGO: {l}')\n",
        "print(f'{corte*5} BOA SORTE! {corte*5}')"
      ],
      "execution_count": null,
      "outputs": []
    },
    {
      "cell_type": "markdown",
      "metadata": {
        "id": "M7LgOpAJYMof",
        "colab_type": "text"
      },
      "source": [
        "**Exercício Python 089:** </br>\n",
        "Crie um programa que leia nome e duas notas de vários alunos e guarde tudo em uma lista composta. No final, mostre um boletim contendo a média de cada um e permita que o usuário possa mostrar as notas de cada aluno individualmente."
      ]
    },
    {
      "cell_type": "code",
      "metadata": {
        "id": "APPGcnG4YVha",
        "colab_type": "code",
        "colab": {}
      },
      "source": [
        "#Minha solução\n",
        "nomes = []\n",
        "notas1 = []\n",
        "notas2 = []\n",
        "medias = []\n",
        "cont = 0\n",
        "while True:\n",
        "  nome = str(input('Nome do aluno: '))\n",
        "  n1 = float(input('Nota 1: '))\n",
        "  n2 = float(input('Nota 2: '))\n",
        "  media = (n1 + n2) / 2\n",
        "  nomes.append(nome)\n",
        "  notas1.append(n1)\n",
        "  notas2.append(n2)\n",
        "  medias.append(media)\n",
        "\n",
        "  continuar = str(input('Quer cadastrar mais alunos? [S/N] '))\n",
        "  if continuar in 'Ss':\n",
        "    cont += 1\n",
        "    continue\n",
        "  elif continuar in 'Nn':\n",
        "    break\n",
        "  else:\n",
        "    print('Digitação errada. Tente novamente.')\n",
        "    continuar = str(input('Quer cadastrar mais alunos? [S/N] '))\n",
        "\n",
        "print('-'*30)\n",
        "print('BOLETIM')\n",
        "print('-'*30)\n",
        "print('ALUNOS', '  NOMES', '     MÉDIAS')\n",
        "print('-'*30)\n",
        "for c in range(0, cont+1):\n",
        "  print(f'ALUNO {c+1}: {nomes[c]:<10} {medias[c]:<4}')\n",
        "print('-'*30)\n",
        "\n",
        "while True:\n",
        "  continuar = str(input('Quer saber as notas de algum aluno? [S/N] '))\n",
        "  if continuar in 'Ss':\n",
        "    aluno = int(input('Digite o número do aluno que você quer saber: '))\n",
        "    print(f'ALUNO: {nomes[aluno+1]} - NOTAS: {notas1[aluno+1]} - {notas2[aluno+1]}')\n",
        "    continue\n",
        "  elif continuar in 'Nn':\n",
        "    break\n",
        "  else:\n",
        "    print('Digitação errada. Tente novamente.')\n",
        "    continuar = str(input('Quer saber as notas de algum aluno? [S/N] '))\n",
        "\n",
        "print('-'*30)\n",
        "print('Obrigado por usar nossa plataforma!')\n"
      ],
      "execution_count": null,
      "outputs": []
    },
    {
      "cell_type": "code",
      "metadata": {
        "id": "Rs5qXeB09GlV",
        "colab_type": "code",
        "colab": {}
      },
      "source": [
        "#melhorando\n",
        "ficha = []\n",
        "\n",
        "while True:\n",
        "  nome = str(input('Nome do aluno: '))\n",
        "  n1 = float(input('Nota 1: '))\n",
        "  n2 = float(input('Nota 2: '))\n",
        "  media = (n1 + n2) / 2\n",
        "  ficha.append([nome, [n1, n2], media])\n",
        "\n",
        "  continuar = str(input('Quer cadastrar mais alunos? [S/N] '))\n",
        "  if continuar in 'Ss':\n",
        "    continue\n",
        "  elif continuar in 'Nn':\n",
        "    break\n",
        "  else:\n",
        "    print('Digitação errada. Tente novamente.')\n",
        "    continuar = str(input('Quer cadastrar mais alunos? [S/N] '))\n",
        "    if continuar in 'Ss':\n",
        "      continue\n",
        "    elif continuar in 'Nn':\n",
        "      break\n",
        "\n",
        "print('-'*30)\n",
        "print('BOLETIM')\n",
        "print('-'*30)\n",
        "print(f'{\"Nº \":<4}{\"NOME\":<10}{\" MÉDIA\":<4}')\n",
        "print('-'*30)\n",
        "for i, n in enumerate(ficha):\n",
        "  print(f'{i+1:<4}{n[0]:<10}{n[2]:>4.1f}')\n",
        "print('-'*30)\n",
        "\n",
        "while True:\n",
        "  continuar = str(input('Quer saber as notas de algum aluno? [S/N] '))\n",
        "  if continuar in 'Ss':\n",
        "    aluno = int(input('Digite o número do aluno que você quer saber: '))\n",
        "    print(f'ALUNO: {ficha[aluno-1][0]} - NOTAS: {ficha[aluno-1][1]}')\n",
        "    continue\n",
        "  elif continuar in 'Nn':\n",
        "    break\n",
        "  else:\n",
        "    print('Digitação errada. Tente novamente.')\n",
        "    continuar = str(input('Quer saber as notas de algum aluno? [S/N] '))\n",
        "\n",
        "print('-'*30)\n",
        "print('Obrigado por usar nossa plataforma!')"
      ],
      "execution_count": null,
      "outputs": []
    }
  ]
}