{
  "nbformat": 4,
  "nbformat_minor": 0,
  "metadata": {
    "colab": {
      "name": "Módulos e Pacotes.ipynb",
      "provenance": [],
      "authorship_tag": "ABX9TyO6C5U4UFey6D8S04N62n7M",
      "include_colab_link": true
    },
    "kernelspec": {
      "name": "python3",
      "display_name": "Python 3"
    }
  },
  "cells": [
    {
      "cell_type": "markdown",
      "metadata": {
        "id": "view-in-github",
        "colab_type": "text"
      },
      "source": [
        "<a href=\"https://colab.research.google.com/github/r-luis/Python-CursoemVideo/blob/master/M%C3%B3dulos_e_Pacotes.ipynb\" target=\"_parent\"><img src=\"https://colab.research.google.com/assets/colab-badge.svg\" alt=\"Open In Colab\"/></a>"
      ]
    },
    {
      "cell_type": "markdown",
      "metadata": {
        "id": "cnHPCZhwPgWH"
      },
      "source": [
        "#**Teoria**\n",
        "---\n",
        "**Modularização:**\n",
        "- Surgiu na década de 60;\n",
        "- Sistemas cada vez maiores;\n",
        "- Foco: Dividir programas grandes, aumentar a legibilidade e facilitar a manutenção;\n",
        "- Qualquer programa que têm funções podem ser importados.\n",
        "- **Vantagens:**\n",
        " - Organização do código\n",
        " - Facilidade na manutenção\n",
        " - Ocultação de código detalhado\n",
        " - Reutilização em outros projetos\n",
        "\n",
        "**Pacotes:**\n",
        "- São utilizados para casos em que o número de módulos se torne muito grande\n",
        "- Cria-se pastas de módulos, formando pacotes, para facilitação na leitura e na organização dessas funções\n",
        "- Toda pasta precisa de um arquivo chamado \"`__init__.py`\""
      ]
    },
    {
      "cell_type": "code",
      "metadata": {
        "id": "5l6TJAFTPcoU"
      },
      "source": [
        "#Base - Isso salva em um \"uteis.py\" separado\n",
        "def fatorial(n):\n",
        "  f = 1\n",
        "  for c in range(1, n+1):\n",
        "    f *= c\n",
        "  return f\n",
        "\n",
        "def dobro(n):\n",
        "  return n*2\n",
        "\n",
        "def triplo(n):\n",
        "  return n*3"
      ],
      "execution_count": null,
      "outputs": []
    },
    {
      "cell_type": "code",
      "metadata": {
        "id": "WEt8I7AsFOyi"
      },
      "source": [
        "#Programa\n",
        "import uteis\n",
        "num = int(input('Digite um valor: '))\n",
        "fat = uteis.fatorial(num)\n",
        "print(f'O fatorial de {num} é {fat}')"
      ],
      "execution_count": null,
      "outputs": []
    },
    {
      "cell_type": "markdown",
      "metadata": {
        "id": "2C4PriQgRv1I"
      },
      "source": [
        "**Exercício Python 107:**\n",
        "<br>Crie um módulo chamado moeda.py que tenha as funções incorporadas aumentar(), diminuir(), dobro() e metade(). Faça também um programa que importe esse módulo e use algumas dessas funções."
      ]
    },
    {
      "cell_type": "code",
      "metadata": {
        "id": "40QWZgn1R5x0"
      },
      "source": [
        "#moeda.py\n",
        "def aumentar(p, t):\n",
        "  aum = p + (p * t/100)\n",
        "  return aum\n",
        "\n",
        "def diminuir(p, t):\n",
        "  dim = p - (p * t/100)\n",
        "  return dim\n",
        "\n",
        "def dobro(p):\n",
        "  dob = p * 2\n",
        "  return dob\n",
        "\n",
        "def metade(p):\n",
        "  met = p / 2\n",
        "  return met"
      ],
      "execution_count": 27,
      "outputs": []
    },
    {
      "cell_type": "code",
      "metadata": {
        "id": "sNEjD6TKS9sk"
      },
      "source": [
        "#programa principal (obs: esse programa não roda no Colab)\n",
        "import moeda\n",
        "valor = float(input('Digite o preço do item: R$'))\n",
        "taxa = int(input('Taxa de desconto/aumento: '))\n",
        "print('-' * 30)\n",
        "\n",
        "print(f'O preço de R${valor} com aumento de {taxa}% fica R${moeda.aumentar(valor, taxa)}')\n",
        "print(f'O preço de R${valor} com desconto de {taxa}% fica R${moeda.diminuir(valor, taxa)}')\n",
        "print(f'O dobro do preço de R${valor} é R${dobro(valor)}')\n",
        "print(f'A metade do preço de R${valor} é R${metade(valor)}')"
      ],
      "execution_count": null,
      "outputs": []
    },
    {
      "cell_type": "markdown",
      "metadata": {
        "id": "JyhLF7KPbUqo"
      },
      "source": [
        "**Exercício Python 108:** \n",
        "<br>Adapte o código do desafio #107, criando uma função adicional chamada moeda() que consiga mostrar os números como um valor monetário formatado."
      ]
    },
    {
      "cell_type": "code",
      "metadata": {
        "id": "Eo6cHuDgbXZr"
      },
      "source": [
        "#moeda.py\n",
        "def aumentar(p = 0, t = 0):\n",
        "  aum = p + (p * t/100)\n",
        "  return aum\n",
        "\n",
        "def diminuir(p = 0, t = 0):\n",
        "  dim = p - (p * t/100)\n",
        "  return dim\n",
        "\n",
        "def dobro(p = 0):\n",
        "  dob = p * 2\n",
        "  return dob\n",
        "\n",
        "def metade(p = 0):\n",
        "  met = p / 2\n",
        "  return met\n",
        "\n",
        "def moeda(p = 0, m = 'R$'):\n",
        "  return f'{m}{p:.2f}'.replace('.', ',')"
      ],
      "execution_count": 31,
      "outputs": []
    },
    {
      "cell_type": "code",
      "metadata": {
        "id": "wdryUt3OcS5q"
      },
      "source": [
        "#programa principal (obs: esse programa não roda no Colab)\n",
        "import moeda\n",
        "valor = float(input('Valor do item: R$'))\n",
        "taxa = float(input('Taxa de desconto/aumento: '))\n",
        "\n",
        "print(f'O dobro de {moeda.moeda(valor)} é {moeda.moeda(moeda.dobro(valor))}')\n",
        "print(f'Com desconto de {taxa}% fica {moeda.moeda(moeda.aumentar(valor, taxa))}')"
      ],
      "execution_count": null,
      "outputs": []
    },
    {
      "cell_type": "markdown",
      "metadata": {
        "id": "-naA5Vvkd-CM"
      },
      "source": [
        "**Exercício Python 109:**\n",
        "<br>Modifique as funções que form criadas no desafio 107 para que elas aceitem um parâmetro a mais, informando se o valor retornado por elas vai ser ou não formatado pela função moeda(), desenvolvida no desafio 108."
      ]
    },
    {
      "cell_type": "code",
      "metadata": {
        "id": "sMzu3YJne7fE"
      },
      "source": [
        "#moeda.py\n",
        "def aumentar(p=0, t=0, f=False):\n",
        "  aum = p + (p * t/100)\n",
        "  return aum if f is False else moeda(aum)\n",
        "\n",
        "def diminuir(p=0, t=0, f=False):\n",
        "  dim = p - (p * t/100)\n",
        "  return dim if f is False else moeda(dim)\n",
        "\n",
        "def dobro(p=0, f=False):\n",
        "  dob = p * 2\n",
        "  return dob if f is False else moeda(dob)\n",
        "\n",
        "def metade(p=0, f=False):\n",
        "  met = p / 2\n",
        "  return met if f is False else moeda(met)\n",
        "\n",
        "def moeda(p = 0, m = 'R$'):\n",
        "  return f'{m}{p:.2f}'.replace('.', ',')"
      ],
      "execution_count": 36,
      "outputs": []
    },
    {
      "cell_type": "code",
      "metadata": {
        "id": "nncxdfdffclm"
      },
      "source": [
        "#programa principal (obs: esse programa não roda no Colab)\n",
        "import moeda\n",
        "valor = float(input('Valor do item: R$'))\n",
        "taxa = float(input('Taxa de desconto/aumento: '))\n",
        "\n",
        "print(f'O dobro de {moeda.moeda(valor)} é {moeda.dobro(valor, True)}')\n",
        "print(f'{moeda.moeda(valor)} com desconto de {taxa}% fica {moeda.aumentar(valor, taxa, True)}')"
      ],
      "execution_count": null,
      "outputs": []
    },
    {
      "cell_type": "markdown",
      "metadata": {
        "id": "6ej2BZ4NgzrZ"
      },
      "source": [
        "**Exercício Python 110:** \n",
        "<br>Adicione o módulo moeda.py criado nos desafios anteriores, uma função chamada resumo(), que mostre na tela algumas informações geradas pelas funções que já temos no módulo criado até aqui."
      ]
    },
    {
      "cell_type": "code",
      "metadata": {
        "id": "2LzLfKW3hmj-"
      },
      "source": [
        "#moeda.py\n",
        "def aumentar(p=0, t=0, frm=False):\n",
        "  aum = p + (p * t/100)\n",
        "  return aum if frm is False else moeda(aum)\n",
        "\n",
        "def diminuir(p=0, t=0, frm=False):\n",
        "  dim = p - (p * t/100)\n",
        "  return dim if frm is False else moeda(dim)\n",
        "\n",
        "def dobro(p=0, frm=False):\n",
        "  dob = p * 2\n",
        "  return dob if frm is False else moeda(dob)\n",
        "\n",
        "def metade(p=0, frm=False):\n",
        "  met = p / 2\n",
        "  return met if frm is False else moeda(met)\n",
        "\n",
        "def moeda(p=0, m='R$'):\n",
        "  return f'{m}{p:.2f}'.replace('.', ',')\n",
        "\n",
        "def resumo(p=0, taxaa=10, taxar=5): #'\\t' é para tabulação\n",
        "  print('-'*36)\n",
        "  print('RESUMO DO VALOR'.center(36))\n",
        "  print('-'*36)\n",
        "  print(f'Preço analisado: \\t{moeda(p)}')\n",
        "  print(f'Dobro: \\t\\t\\t{dobro(p, True)}')\n",
        "  print(f'Metade: \\t\\t{metade(p, True)}')\n",
        "  print(f'Com {taxaa}% de aumento:\\t{aumentar(p, taxaa, True)}')\n",
        "  print(f'Com {taxar}% de desconto:\\t{diminuir(p, taxar, True)}')\n",
        "  print('-'*36)"
      ],
      "execution_count": 76,
      "outputs": []
    },
    {
      "cell_type": "code",
      "metadata": {
        "id": "F0yOMWtPiMAs"
      },
      "source": [
        "#programa principal (obs: esse programa não roda no Colab)\n",
        "import moeda\n",
        "valor = float(input('Valor do item: R$'))\n",
        "d = int(input('Desconto (em %): '))\n",
        "a = int(input('Aumento (em %):'))\n",
        "\n",
        "moeda.resumo(valor, a, d)"
      ],
      "execution_count": null,
      "outputs": []
    },
    {
      "cell_type": "markdown",
      "metadata": {
        "id": "paCiZk_Glgqd"
      },
      "source": [
        "**Exercício Python 111:** \n",
        "<br>Crie um pacote chamado utilidadesCeV que tenha dois módulos internos chamados moeda e dado. Transfira todas as funções utilizadas nos desafios 107, 108 e 109 para o primeiro pacote e mantenha tudo funcionando."
      ]
    },
    {
      "cell_type": "code",
      "metadata": {
        "id": "wGo9jcEmlk7h"
      },
      "source": [
        "#arquivo __init__.py dentro de uma pasta \"moeda\" dentro de \"utilidadescev\"\n",
        "def aumentar(p=0, t=0, frm=False):\n",
        "  aum = p + (p * t/100)\n",
        "  return aum if frm is False else moeda(aum)\n",
        "\n",
        "def diminuir(p=0, t=0, frm=False):\n",
        "  dim = p - (p * t/100)\n",
        "  return dim if frm is False else moeda(dim)\n",
        "\n",
        "def dobro(p=0, frm=False):\n",
        "  dob = p * 2\n",
        "  return dob if frm is False else moeda(dob)\n",
        "\n",
        "def metade(p=0, frm=False):\n",
        "  met = p / 2\n",
        "  return met if frm is False else moeda(met)\n",
        "\n",
        "def moeda(p=0, m='R$'):\n",
        "  return f'{m}{p:.2f}'.replace('.', ',')\n",
        "\n",
        "def resumo(p=0, taxaa=10, taxar=5): #'\\t' é para tabulação\n",
        "  print('-'*36)\n",
        "  print('RESUMO DO VALOR'.center(36))\n",
        "  print('-'*36)\n",
        "  print(f'Preço analisado: \\t{moeda(p)}')\n",
        "  print(f'Dobro: \\t\\t\\t{dobro(p, True)}')\n",
        "  print(f'Metade: \\t\\t{metade(p, True)}')\n",
        "  print(f'Com {taxaa}% de aumento:\\t{aumentar(p, taxaa, True)}')\n",
        "  print(f'Com {taxar}% de desconto:\\t{diminuir(p, taxar, True)}')\n",
        "  print('-'*36)"
      ],
      "execution_count": 81,
      "outputs": []
    },
    {
      "cell_type": "code",
      "metadata": {
        "id": "HSMNXKFPmq86"
      },
      "source": [
        "from utilidadescev import moeda\n",
        "resumo(10, 10, 5)"
      ],
      "execution_count": null,
      "outputs": []
    },
    {
      "cell_type": "markdown",
      "metadata": {
        "id": "T8WorheGnP5K"
      },
      "source": [
        "**Exercício Python 112:** \n",
        "<br>Dentro do pacote utilidadesCeV que criamos no desafio 111, temos um módulo chamado dado. Crie uma função chamada leiaDinheiro() que seja capaz de funcionar como a função imputa(), mas com uma validação de dados para aceitar apenas valores que seja monetários."
      ]
    },
    {
      "cell_type": "code",
      "metadata": {
        "id": "1ZToz-0Pn5-1"
      },
      "source": [
        "#arquivo __init__.py dentro de uma pasta \"dado\" dentro de \"utilidadescev\"\n",
        "def leiaDinheiro(msg):\n",
        "  valido = False\n",
        "  while not valido:\n",
        "    entrada = str(input(msg)).replace(',', '.').strip()\n",
        "    if entrada.isalpha() or entrada == '':\n",
        "      print(f'ERRO: \\\"{entrada}\\\" é um preço inválido')\n",
        "    else:\n",
        "      valido = True\n",
        "      return float(entrada)\n",
        "    "
      ],
      "execution_count": 90,
      "outputs": []
    },
    {
      "cell_type": "code",
      "metadata": {
        "id": "pMdGuWXxpBmn"
      },
      "source": [
        "from utilidadescev import dado\n",
        "from utilidadescev import moeda"
      ],
      "execution_count": null,
      "outputs": []
    },
    {
      "cell_type": "code",
      "metadata": {
        "id": "_QLA2VwUpNk1"
      },
      "source": [
        "p = dado.leiaDinheiro('Digite um valor: R$')\n",
        "moeda.resumo(p, 35, 22)"
      ],
      "execution_count": null,
      "outputs": []
    }
  ]
}