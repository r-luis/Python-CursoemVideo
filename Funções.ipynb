{
  "nbformat": 4,
  "nbformat_minor": 0,
  "metadata": {
    "colab": {
      "name": "Funções.ipynb",
      "provenance": [],
      "collapsed_sections": [],
      "authorship_tag": "ABX9TyMTcllpadW2uA4tMnhufZXA",
      "include_colab_link": true
    },
    "kernelspec": {
      "name": "python3",
      "display_name": "Python 3"
    }
  },
  "cells": [
    {
      "cell_type": "markdown",
      "metadata": {
        "id": "view-in-github",
        "colab_type": "text"
      },
      "source": [
        "<a href=\"https://colab.research.google.com/github/r-luis/Python-CursoemVideo/blob/master/Fun%C3%A7%C3%B5es.ipynb\" target=\"_parent\"><img src=\"https://colab.research.google.com/assets/colab-badge.svg\" alt=\"Open In Colab\"/></a>"
      ]
    },
    {
      "cell_type": "markdown",
      "metadata": {
        "id": "n0cO-QqIK8Hi",
        "colab_type": "text"
      },
      "source": [
        "#**Teoria - Parte 1**\n",
        "---\n",
        "- Usadas em ações usadas constantemente no programa (rotinas).\n",
        "- print, len, imput, float, e outros são funções.\n",
        "- O comando *def* é usado pra criar funções das quais outras ações não são o suficiente.\n",
        "```\n",
        "def mostralinha():\n",
        "print('---------') #fica vinculado a função, evitando repetições.\n",
        "```\n",
        "- Também dá para criar comandos personalizados mais complexos usando parâmetros.\n"
      ]
    },
    {
      "cell_type": "code",
      "metadata": {
        "id": "puQFfLMekHg5",
        "colab_type": "code",
        "colab": {}
      },
      "source": [
        "#sem o def\n",
        "print('-'*30)\n",
        "print('           SISTEMA')\n",
        "print('-'*30)\n",
        "print('-'*30)\n",
        "print('          CADASTRO')\n",
        "print('-'*30)"
      ],
      "execution_count": null,
      "outputs": []
    },
    {
      "cell_type": "code",
      "metadata": {
        "id": "quvZ_tYwgr-n",
        "colab_type": "code",
        "colab": {}
      },
      "source": [
        "#com o def\n",
        "def mostralinha():\n",
        "  print('-' * 30)\n",
        "\n",
        "mostralinha()\n",
        "print('           SISTEMA')\n",
        "mostralinha()\n",
        "mostralinha()\n",
        "print('          CADASTRO')\n",
        "mostralinha()"
      ],
      "execution_count": null,
      "outputs": []
    },
    {
      "cell_type": "code",
      "metadata": {
        "id": "BqQiqJCei8W1",
        "colab_type": "code",
        "colab": {}
      },
      "source": [
        "#usando parâmetros\n",
        "def mensagem(msg):\n",
        "  print('-'*30)\n",
        "  print(msg)\n",
        "  print('-'*30)\n",
        "\n",
        "mensagem('SISTEMA DE ALUNOS') #adiciona uma mensagem ao parâmetro, assim diminuindo o tamanho do código\n",
        "mensagem('PYTHON GO')"
      ],
      "execution_count": null,
      "outputs": []
    },
    {
      "cell_type": "code",
      "metadata": {
        "id": "JIRWeM0AkVjh",
        "colab_type": "code",
        "colab": {}
      },
      "source": [
        "#soma\n",
        "def soma(a, b):\n",
        "  print(f'A = {a} e B = {b}')\n",
        "  s = a + b\n",
        "  print(f'{a} + {b} = {s}')\n",
        "\n",
        "#Programa Principal\n",
        "soma(4, 5)\n",
        "soma(8, 9)\n",
        "soma(2, 1)"
      ],
      "execution_count": null,
      "outputs": []
    },
    {
      "cell_type": "code",
      "metadata": {
        "id": "mbka_XFbqp4a",
        "colab_type": "code",
        "colab": {}
      },
      "source": [
        "#soma com parâmetros maiores\n",
        "def soma(*val):\n",
        "  s = 0\n",
        "  for num in val:\n",
        "    s += num\n",
        "  print(f'Soma total: {s}')\n",
        "\n",
        "soma(4, 2)\n",
        "soma(3, 5, 10)\n",
        "soma(1400, 2, 3, 5)"
      ],
      "execution_count": null,
      "outputs": []
    },
    {
      "cell_type": "code",
      "metadata": {
        "id": "lUPnjR1nnZU1",
        "colab_type": "code",
        "colab": {}
      },
      "source": [
        "#Empacotamento de funções\n",
        "def contador(*num): #o \"*\" desempacota os parâmetros independente da quantidade\n",
        "  tam = len(num)\n",
        "  print(f'Valores: {num} / Tamanho: {tam}')\n",
        "  for valor in num:\n",
        "    print(f'{valor} ', end='')\n",
        "  print()\n",
        "  \n",
        "#Programa principal\n",
        "contador(2, 1, 7)\n",
        "contador(8, 0)\n",
        "contador(4, 4, 7, 6, 2)"
      ],
      "execution_count": null,
      "outputs": []
    },
    {
      "cell_type": "code",
      "metadata": {
        "id": "zkM8PROAoi-2",
        "colab_type": "code",
        "colab": {}
      },
      "source": [
        "#Usando listas\n",
        "def dobra(lst):\n",
        "  pos = 0\n",
        "  while pos < len(lst):\n",
        "    lst[pos] *= 2\n",
        "    pos += 1\n",
        "  return lst\n",
        "\n",
        "lista = [6, 3, 4, 1, 2]\n",
        "\n",
        "print(lista)\n",
        "dobra(lista)"
      ],
      "execution_count": null,
      "outputs": []
    },
    {
      "cell_type": "markdown",
      "metadata": {
        "id": "DkNaL0e7rKxx",
        "colab_type": "text"
      },
      "source": [
        "#**Prática (Exercícios)**\n",
        "---"
      ]
    },
    {
      "cell_type": "markdown",
      "metadata": {
        "id": "cu65ftb4W8C2",
        "colab_type": "text"
      },
      "source": [
        "**Exercício Python 096:**</br>\n",
        "Faça um programa que tenha uma função chamada área(), que receba as dimensões de um terreno retangular (largura e comprimento) e mostre a área do terreno."
      ]
    },
    {
      "cell_type": "code",
      "metadata": {
        "id": "kMTxE0iYsoOB",
        "colab_type": "code",
        "colab": {}
      },
      "source": [
        "def area(b, h):\n",
        "  a = b * h\n",
        "  print(f'Área do terreno: {a}m²')\n",
        "\n",
        "b = float(input('Largura (em metros): '))\n",
        "h = float(input('Comprimento (em metros): '))\n",
        "area(b, h)"
      ],
      "execution_count": null,
      "outputs": []
    },
    {
      "cell_type": "markdown",
      "metadata": {
        "id": "W2JpohJLePqq",
        "colab_type": "text"
      },
      "source": [
        "**Exercício Python 097:**</br>\n",
        "Faça um programa que tenha uma função chamada escreva(), que receba um texto qualquer como parâmetro e mostre uma mensagem com tamanho adaptável.\n",
        "</br>\n",
        "Ex: escreva(‘Olá, Mundo!’)</br>\n",
        "Saída:</br>\n",
        "-------------------</br>\n",
        "Olá Mundo!\n",
        "</br>-------------------                  "
      ]
    },
    {
      "cell_type": "code",
      "metadata": {
        "id": "kZFjr9fPe8Hz",
        "colab_type": "code",
        "colab": {}
      },
      "source": [
        "def escreva(msg):\n",
        "  print('~'*len(msg))\n",
        "  print(msg)\n",
        "  print('~'*len(msg))\n",
        "\n",
        "mensagem = str(input('Digite alguma coisa: '))\n",
        "escreva(mensagem)"
      ],
      "execution_count": null,
      "outputs": []
    },
    {
      "cell_type": "markdown",
      "metadata": {
        "id": "72yp5qjV-h-M",
        "colab_type": "text"
      },
      "source": [
        "**Exercício Python 098:** </br>\n",
        "Faça um programa que tenha uma função chamada contador(), que receba três parâmetros: início, fim e passo. Seu programa tem que realizar três contagens através da função criada: \n",
        "<br>*a) de 1 até 10, de 1 em 1*\n",
        "<br>*b) de 10 até 0, de 2 em 2*\n",
        "<br>*c) uma contagem personalizada*"
      ]
    },
    {
      "cell_type": "code",
      "metadata": {
        "id": "tTYiSSphCMG4",
        "colab_type": "code",
        "colab": {}
      },
      "source": [
        "from time import sleep\n",
        "\n",
        "def contador(i, f, p):\n",
        "  #tratamento de erros no passo\n",
        "  if p < 0:\n",
        "    p *= -1\n",
        "  if p == 0:\n",
        "    p = 1\n",
        "\n",
        "  print('-'*20)\n",
        "  print(f'Contando de {i} até {f} (Passo: {p}):')\n",
        "\n",
        "  #condições\n",
        "  if i < f:\n",
        "    cont = i\n",
        "    while cont <= f:\n",
        "      print(f'{cont} ', end='', flush=True)\n",
        "      cont += p\n",
        "      sleep(0.5)\n",
        "    print()\n",
        "  else:\n",
        "    cont = i\n",
        "    while cont >= f:\n",
        "      print(f'{cont} ', end='', flush=True)\n",
        "      cont -= p\n",
        "      sleep(0.5)\n",
        "    print()\n",
        "\n",
        "#Programa Principal\n",
        "contador(1, 10, 1)\n",
        "contador(10, -10, 2)\n",
        "print('-'*20)\n",
        "print('Agora é a sua vez de escolher!')\n",
        "ini = int(input('Início:  '))\n",
        "fim = int(input('Fim:     '))\n",
        "passo = int(input('Passo: '))\n",
        "contador(ini, fim, passo)"
      ],
      "execution_count": null,
      "outputs": []
    },
    {
      "cell_type": "markdown",
      "metadata": {
        "id": "hXiQx8NeJiBJ",
        "colab_type": "text"
      },
      "source": [
        "**Exercício Python 099:**\n",
        "<br>Faça um programa que tenha uma função chamada maior(), que receba vários parâmetros com valores inteiros. Seu programa tem que analisar todos os valores e dizer qual deles é o maior."
      ]
    },
    {
      "cell_type": "code",
      "metadata": {
        "id": "MzW09XyKYbB_",
        "colab_type": "code",
        "colab": {}
      },
      "source": [
        "#minha solução\n",
        "lista = list()\n",
        "def maior(*num):\n",
        "  maior = None\n",
        "  for n in lista:\n",
        "    if maior == None:\n",
        "      maior = n\n",
        "    elif n >= maior:\n",
        "      maior = n\n",
        "  return maior\n",
        "\n",
        "#Programa Principal\n",
        "while True:\n",
        "  n = int(input('Digite um número: '))\n",
        "  lista.append(n)\n",
        "  cont = str(input('Quer continuar? [S/N]:')).upper()[0]\n",
        "  while cont not in 'SN':\n",
        "    print('Erro. Digite novamente.')\n",
        "    cont = str(input('Quer continuar? [S/N]:')).upper()[0]\n",
        "  if cont == 'N':\n",
        "    break\n",
        "\n",
        "print(f'Os números digitados são: {lista}')\n",
        "print(f'E o maior número é {maior()}')"
      ],
      "execution_count": null,
      "outputs": []
    },
    {
      "cell_type": "code",
      "metadata": {
        "id": "p9b-iExMeH7j",
        "colab_type": "code",
        "colab": {}
      },
      "source": [
        "#solução guanabara\n",
        "from time import sleep\n",
        "\n",
        "def maior(* num):\n",
        "  cont = maior = 0\n",
        "  print('-'*20)\n",
        "  print('Análise de números: ')\n",
        "  for valor in num:\n",
        "    print(f'{valor} ', end='', flush=True)\n",
        "    sleep(0.4)\n",
        "    if cont == 0:\n",
        "      maior = valor\n",
        "    else:\n",
        "      if valor >= maior:\n",
        "        maior = valor\n",
        "    cont += 1\n",
        "  print(f'\\nForam informados {cont} números.')\n",
        "  print(f'O maior é {maior}')\n",
        "\n",
        "#programa principal\n",
        "maior(2, 5, 10, 3, 0)\n",
        "maior(4, 3, 6, 8)\n",
        "maior(0, 3, 5)\n",
        "maior(0, -2)\n",
        "maior(1)\n",
        "maior()"
      ],
      "execution_count": null,
      "outputs": []
    },
    {
      "cell_type": "markdown",
      "metadata": {
        "id": "OwRh-vWzgFkL",
        "colab_type": "text"
      },
      "source": [
        "**Exercício Python 100:** \n",
        "<br>Faça um programa que tenha uma lista chamada números e duas funções chamadas sorteia() e somaPar(). A primeira função vai sortear 5 números e vai colocá-los dentro da lista e a segunda função vai mostrar a soma entre todos os valores pares sorteados pela função anterior."
      ]
    },
    {
      "cell_type": "code",
      "metadata": {
        "id": "pNwFSur1gL3a",
        "colab_type": "code",
        "colab": {}
      },
      "source": [
        "from random import randint\n",
        "from time import sleep\n",
        "numeros = list()\n",
        "\n",
        "def sorteia(lst):\n",
        "  print('Números sorteados: ', end='')\n",
        "  for c in range(0, 5):\n",
        "    n = randint(1, 10)\n",
        "    lst.append(n)\n",
        "    print(f'{n} ', end='', flush=True)\n",
        "    sleep(0.4)  \n",
        "\n",
        "def somapar(lst):\n",
        "  soma = 0\n",
        "  for n in lst:    \n",
        "    if n % 2 == 0:\n",
        "     soma += n\n",
        "  print(f'A soma dos números pares de {lst} é {soma}')\n",
        "\n",
        "#programa principal\n",
        "sorteia(numeros)\n",
        "print()\n",
        "somapar(numeros)"
      ],
      "execution_count": null,
      "outputs": []
    },
    {
      "cell_type": "markdown",
      "metadata": {
        "id": "6Y_K4Uw0L3FO",
        "colab_type": "text"
      },
      "source": [
        "#**Teoria - Parte 2**\n",
        "---\n",
        "- ***Interactive Help :*** `(help())` ou `(.__doc__)`: Podem ser usados para retornar explicações sobre comandos, funções ou bibliotecas Python;\n",
        "- ***Docstrings:*** São as próprias documentações de funções que você pode acessar com help ou doc. Pode-se colocar docs em funções criadas dentro de programas colocando o texto explicativo entre aspas triplas (''' ex ''');\n",
        "- ***Parâmetros opcionais:*** Dentro de uma função com parâmetros máximos definidos, se pode colocar parâmetros opcionais em um caso onde o número de valores é menor que os parâmetros. Caso seja em parâmetros maior, o correto é usar o '*' antes dos parâmetros;\n",
        "- ***Escopo de variáveis:*** Os locais onde uma variável pode ou não existir.<br>- **Variáveis globais** podem ser chamadas no programa inteiro. Caso tenha uma variável igual dentro de uma função, porém você quer usar a variável da função como global, é só usar o comando (global var);\n",
        "<br>- **Variáveis locais** funcionam em um escopo local, como dentro de uma função.\n",
        "- **Retorno de valores (return):** Retorna um valor da função, sem o return ela faz as funções dentro dela apenas."
      ]
    },
    {
      "cell_type": "code",
      "metadata": {
        "id": "AV9XrGNaL8Kg",
        "colab_type": "code",
        "colab": {}
      },
      "source": [
        "help(print)"
      ],
      "execution_count": null,
      "outputs": []
    },
    {
      "cell_type": "code",
      "metadata": {
        "id": "La_A9lCJOA2O",
        "colab_type": "code",
        "colab": {}
      },
      "source": [
        "print.__doc__"
      ],
      "execution_count": null,
      "outputs": []
    },
    {
      "cell_type": "code",
      "metadata": {
        "id": "nMEwWrJwQBDF",
        "colab_type": "code",
        "colab": {}
      },
      "source": [
        "#criando função e um docstring dela\n",
        "def contador(i, f, p):\n",
        "  '''Essa função faz uma contagem a partir de 3 parâmetros:\n",
        "  - Parâmetro i: Início da contagem;\n",
        "  - Parâmetro f: Fim da contagem;\n",
        "  - Parâmetro p: Passo (quantidade da contagem)\n",
        "  - return: sem retorno'''\n",
        "  c = i\n",
        "  while c <= f:\n",
        "    print(f'{c} ', end='')\n",
        "    c += p\n",
        "  print('END')\n",
        "\n",
        "contador(0, 20, 2)\n",
        "help(contador)"
      ],
      "execution_count": null,
      "outputs": []
    },
    {
      "cell_type": "code",
      "metadata": {
        "id": "W-9PP70ITpuH",
        "colab_type": "code",
        "colab": {}
      },
      "source": [
        "#parâmetros opcionais\n",
        "def soma (a=0, b=0, c=0):   #os parâmetros tem um valor opcional em caso de não ter valores para preencher\n",
        "  s = a + b + c\n",
        "  print(f'A soma é {s}')\n",
        "\n",
        "soma(1, 5, 4)\n",
        "soma(1, 2)\n",
        "soma(6)\n",
        "soma()"
      ],
      "execution_count": null,
      "outputs": []
    },
    {
      "cell_type": "code",
      "metadata": {
        "id": "AieWnSb6Wy_A",
        "colab_type": "code",
        "colab": {}
      },
      "source": [
        "#escopo de variáveis\n",
        "def funcao():\n",
        "  global n\n",
        "  n = 5 #n dentro da função existe aqui mesmo tendo uma variável com o mesmo nome fora\n",
        "  print(f'p fora vale {p}')\n",
        "  print(f'n dentro vale {n}')\n",
        "\n",
        "p = 1 #mesmo estando fora da função, ela tem o escopo global, então funciona na função, já que não há nenhuma com o mesmo nome nela\n",
        "n = 8\n",
        "funcao()\n",
        "print(f'n fora vale {n}')"
      ],
      "execution_count": null,
      "outputs": []
    },
    {
      "cell_type": "code",
      "metadata": {
        "id": "imtlSJBJWNHk",
        "colab_type": "code",
        "colab": {}
      },
      "source": [
        "#Retorno de Valores\n",
        "def somar(a=0, b=0, c=0):\n",
        "  s = a + b + c\n",
        "  return s\n",
        "\n",
        "#Programa principal\n",
        "r1 = somar(4, 6, 10)\n",
        "r2 = somar(1, 3)\n",
        "r3 = somar(2)\n",
        "print(f'A somas são {r1}, {r2} e {r3}')"
      ],
      "execution_count": null,
      "outputs": []
    },
    {
      "cell_type": "code",
      "metadata": {
        "id": "sIsxySZsXUFx",
        "colab_type": "code",
        "colab": {}
      },
      "source": [
        "#Pratica1\n",
        "def fatorial(num=1):\n",
        "  f = 1\n",
        "  for c in range(num, 0, -1):\n",
        "    f *= c\n",
        "  return f\n",
        "#Principal\n",
        "n = int(input('Digite um número: '))\n",
        "print(f'O resultado do fatorial de {n} é {fatorial(n)}')\n",
        "\n",
        "def par(num=0):\n",
        "  if num % 2 == 0:\n",
        "    return True\n",
        "  else:\n",
        "    return False\n",
        "\n",
        "n = int(input('Digite um número: '))\n",
        "if par(n):\n",
        "  print('É par!')\n",
        "else:\n",
        "  print('É impar!')"
      ],
      "execution_count": null,
      "outputs": []
    },
    {
      "cell_type": "markdown",
      "metadata": {
        "id": "MS6Ez_KY2Rqi",
        "colab_type": "text"
      },
      "source": [
        "#**Prática - Exercícios (Parte 2)**\n",
        "---"
      ]
    },
    {
      "cell_type": "markdown",
      "metadata": {
        "id": "0lldgJXt2iry",
        "colab_type": "text"
      },
      "source": [
        "**Exercício Python 101:** \n",
        "<br>Crie um programa que tenha uma função chamada voto() que vai receber como parâmetro o ano de nascimento de uma pessoa, retornando um valor literal indicando se uma pessoa tem voto NEGADO, OPCIONAL e OBRIGATÓRIO nas eleições."
      ]
    },
    {
      "cell_type": "code",
      "metadata": {
        "id": "24aod4nz2no3",
        "colab_type": "code",
        "colab": {}
      },
      "source": [
        "#minha solução\n",
        "def voto(ano):\n",
        "  from datetime import date\n",
        "  atual = date.today().year\n",
        "  idade = atual - ano\n",
        "  if 16 <= idade < 18 or idade > 70:\n",
        "    return print(f'Idade: {idade}; VOTO: OPCIONAL')\n",
        "  elif idade >=18 and idade <= 70:\n",
        "    return print(f'Idade: {idade}; VOTO: OBRIGATÓRIO')\n",
        "  else:\n",
        "    return print(f'Idade: {idade}; VOTO: NEGADO')\n",
        "\n",
        "#Principal\n",
        "nasc = int(input('Ano de nascimento: '))\n",
        "voto(nasc)"
      ],
      "execution_count": null,
      "outputs": []
    },
    {
      "cell_type": "markdown",
      "metadata": {
        "id": "6AvA9IClo0Gj",
        "colab_type": "text"
      },
      "source": [
        "**Exercício Python 102:** \n",
        "<br>Crie um programa que tenha uma função fatorial() que receba dois parâmetros: o primeiro que indique o número a calcular e outro chamado show, que será um valor lógico (opcional) indicando se será mostrado ou não na tela o processo de cálculo do fatorial."
      ]
    },
    {
      "cell_type": "code",
      "metadata": {
        "id": "PXHdFJ-yq3tB",
        "colab_type": "code",
        "colab": {}
      },
      "source": [
        "def fatorial(n, show=False):\n",
        "  '''\n",
        "  - Calcula o fatorial de um número.\n",
        "      > param n: o valor a ser calculado;\n",
        "      > param show (opcional): se o parâmetro for True, todo o cálculo será mostrado,\n",
        "      caso contrário, só aparecerá o resultado.\n",
        "      > return: O valor do fatorial do número n\n",
        "  '''\n",
        "  f = 1  \n",
        "  for c in range(n, 0, -1):\n",
        "    f *= c\n",
        "    if show == True:   \n",
        "      print(c, end='')\n",
        "      if c > 1:\n",
        "        print(' x ', end ='')\n",
        "      else:\n",
        "        print(' = ', end='')\n",
        "  return f\n",
        "\n",
        "#Principal  \n",
        "print('-'*30)\n",
        "fatorial(5, show=True)\n",
        "help(fatorial)"
      ],
      "execution_count": null,
      "outputs": []
    },
    {
      "cell_type": "markdown",
      "metadata": {
        "id": "1YAHSYrkVX28",
        "colab_type": "text"
      },
      "source": [
        "**Exercício Python 103:** \n",
        "<br>Faça um programa que tenha uma função chamada ficha(), que receba dois parâmetros opcionais: o nome de um jogador e quantos gols ele marcou. O programa deverá ser capaz de mostrar a ficha do jogador, mesmo que algum dado não tenha sido informado corretamente."
      ]
    },
    {
      "cell_type": "code",
      "metadata": {
        "id": "GVw23UpVFPwF",
        "colab_type": "code",
        "colab": {}
      },
      "source": [
        "def ficha(jogador='<desconhecido>', gols=0):\n",
        "  print('-'*30)\n",
        "  return print(f'O jogador {jogador} fez {gols} gols na temporada.')\n",
        "\n",
        "j = str(input('Nome do Jogador: '))\n",
        "g = str(input('Gols na temporada: '))\n",
        "\n",
        "if g.isnumeric():\n",
        "  g = int(g)\n",
        "else:\n",
        "  g = 0\n",
        "\n",
        "if j.strip() == '':\n",
        "  ficha(gols=g)\n",
        "else:\n",
        "  ficha(j, g)"
      ],
      "execution_count": null,
      "outputs": []
    },
    {
      "cell_type": "markdown",
      "metadata": {
        "id": "SP1dI3tCVG89",
        "colab_type": "text"
      },
      "source": [
        "**Exercício Python 104:** \n",
        "<br>Crie um programa que tenha a função leiaInt(), que vai funcionar de forma semelhante ‘a função input() do Python, só que fazendo a validação para aceitar apenas um valor numérico. Ex: n = leiaInt(‘Digite um n: ‘)"
      ]
    },
    {
      "cell_type": "code",
      "metadata": {
        "id": "9eyN-_PSVOwW",
        "colab_type": "code",
        "colab": {}
      },
      "source": [
        "def leiaInt(msg):\n",
        "  '''\n",
        "  - Faz a leitura e valida apenas valores numéricos.\n",
        "   > param msg: A frase de input do valor\n",
        "   > param n: a entrada do valor digitado\n",
        "   '''\n",
        "  n = str(input(msg))\n",
        "  #validação\n",
        "  if n.isnumeric():\n",
        "    print(f'Você digitou o número {n}')\n",
        "  else:\n",
        "    while True:\n",
        "      print('Erro, digite novamente.')\n",
        "      n = str(input(msg))\n",
        "      if n.isnumeric():\n",
        "        print(f'Você digitou o número {n}')\n",
        "        break\n",
        "#principal\n",
        "n = leiaInt('Digite um número: ')"
      ],
      "execution_count": null,
      "outputs": []
    },
    {
      "cell_type": "code",
      "metadata": {
        "id": "rer6oLDiqHXc",
        "colab_type": "code",
        "colab": {}
      },
      "source": [
        "#solução guanabara\n",
        "def leiaInt(msg):\n",
        "  ok = False\n",
        "  valor = 0\n",
        "  while True:\n",
        "    n = str(input(msg))\n",
        "    if n.isnumeric():\n",
        "      valor = int(n)\n",
        "      ok = True\n",
        "    else:\n",
        "      print('Erro, digite novamente.')\n",
        "    if ok:\n",
        "      break\n",
        "  return valor\n",
        "\n",
        "n = leiaInt('Digite um número: ')\n",
        "print(n)"
      ],
      "execution_count": null,
      "outputs": []
    },
    {
      "cell_type": "markdown",
      "metadata": {
        "id": "L1-b20FGb42L",
        "colab_type": "text"
      },
      "source": [
        "**Exercício Python 105:**\n",
        "<br>Faça um programa que tenha uma função notas() que pode receber várias notas de alunos e vai retornar um dicionário com as seguintes informações:\n",
        "- Quantidade de notas\n",
        "- A maior nota\n",
        "- A menor nota\n",
        "- A média da turma\n",
        "- A situação (opcional)"
      ]
    },
    {
      "cell_type": "code",
      "metadata": {
        "id": "1gyaa10TkJ44",
        "colab_type": "code",
        "colab": {}
      },
      "source": [
        "def notas(*nota, sit=False):\n",
        "  dados = dict()\n",
        "  dados['notas'] = len(nota)\n",
        "  dados['maior'] = max(nota)\n",
        "  dados['menor'] = min(nota)\n",
        "  dados['média'] = sum(nota) / len(nota)\n",
        "  if sit:\n",
        "    if dados['média'] >= 7:\n",
        "      dados['sit'] = 'ÓTIMA'\n",
        "    elif dados['média'] >= 5:\n",
        "      dados['sit'] = 'RAZOÁVEL'\n",
        "    else:\n",
        "      dados['sit'] = 'RUIM'\n",
        "  return dados\n",
        "  \n",
        "notas(7, 8, 5, 10, sit=True)"
      ],
      "execution_count": null,
      "outputs": []
    },
    {
      "cell_type": "markdown",
      "metadata": {
        "id": "0etBlmE_zWtO",
        "colab_type": "text"
      },
      "source": [
        "**Exercício Python 106:** \n",
        "<br>Faça um mini-sistema que utilize o Interactive Help do Python. O usuário vai digitar o comando e o manual vai aparecer. Quando o usuário digitar a palavra ‘FIM’, o programa se encerrará. Importante: use cores."
      ]
    },
    {
      "cell_type": "code",
      "metadata": {
        "id": "xa11cBsT8nkO",
        "colab_type": "code",
        "colab": {}
      },
      "source": [
        "from time import sleep\n",
        "def corte(msg):\n",
        "  print('-' * len(msg))\n",
        "  print(f'{msg}')\n",
        "  print('-' * len(msg))\n",
        "\n",
        "while True:\n",
        "  corte(' SISTEMA DE AJUDA PYHELP ')\n",
        "  ajuda = str(input('Nome do comando ou biblioteca Python: '))\n",
        "  sleep(0.5)\n",
        "  corte(f'Pesquisando o comando {ajuda.upper()}')\n",
        "  sleep(0.5)\n",
        "  help(ajuda) \n",
        "  \n",
        "  while True:\n",
        "    print('-' * 30)\n",
        "    cont = str(input('Quer continuar? [S/N]: ')).strip().upper()\n",
        "    if cont in 'SN':\n",
        "      break\n",
        "    else:\n",
        "      print('Você digitou algo errado. Tente novamente.')\n",
        "      continue\n",
        "  if cont == 'N':\n",
        "    break\n",
        "  \n",
        "print('OBRIGADO POR USAR')"
      ],
      "execution_count": null,
      "outputs": []
    },
    {
      "cell_type": "code",
      "metadata": {
        "id": "QSZTucPlAbN6",
        "colab_type": "code",
        "colab": {}
      },
      "source": [
        "from time import sleep\n",
        "\n",
        "c = ('\\033[m', #0 - sem cores\n",
        "     '\\033[0;30;41m', #1 - vermelho\n",
        "     '\\033[0;30;42m', #2 - verde\n",
        "     '\\033[0;30;43m', #3 - amarelo\n",
        "     '\\033[0;30;44m', #4 - azul\n",
        "     '\\033[0;30;45m', #5 - roxo\n",
        "     '\\033[7;30m' #6 - branco\n",
        "     );\n",
        "\n",
        "\n",
        "def ajuda(com):\n",
        "  corte(f'Pesquisando o comando \\ {com.upper()} \\ ', 4)\n",
        "  print(c[6], end='')\n",
        "  help(com)\n",
        "  print(c[0], end='')\n",
        "  sleep(2)\n",
        "\n",
        "def corte(msg, cor=0):\n",
        "  tam = len(msg) + 4\n",
        "  print(c[cor], end='')\n",
        "  print('-' * tam)\n",
        "  print(f'  {msg}')\n",
        "  print('-' * tam)\n",
        "  print(c[0], end='')\n",
        "  sleep(1)\n",
        "\n",
        "#Principal\n",
        "comando = ''\n",
        "while True:\n",
        "  corte('SISTEMA DE AJUDA PYHELP', 2)\n",
        "  comando = str(input('Nome do comando ou biblioteca (FIM para fechar o programa) > '))\n",
        "  if comando.upper() == 'FIM':\n",
        "    break\n",
        "  else:\n",
        "    ajuda(comando)\n",
        "\n",
        "corte('ATÉ LOGO!', 1)"
      ],
      "execution_count": null,
      "outputs": []
    }
  ]
}