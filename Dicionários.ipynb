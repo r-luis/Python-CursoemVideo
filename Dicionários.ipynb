{
  "nbformat": 4,
  "nbformat_minor": 0,
  "metadata": {
    "colab": {
      "name": "Dicionários.ipynb",
      "provenance": [],
      "authorship_tag": "ABX9TyN2pVk9N1pbaoMZj/mU+6vB",
      "include_colab_link": true
    },
    "kernelspec": {
      "name": "python3",
      "display_name": "Python 3"
    }
  },
  "cells": [
    {
      "cell_type": "markdown",
      "metadata": {
        "id": "view-in-github",
        "colab_type": "text"
      },
      "source": [
        "<a href=\"https://colab.research.google.com/github/r-luis/Python-CursoemVideo/blob/master/Dicion%C3%A1rios.ipynb\" target=\"_parent\"><img src=\"https://colab.research.google.com/assets/colab-badge.svg\" alt=\"Open In Colab\"/></a>"
      ]
    },
    {
      "cell_type": "markdown",
      "metadata": {
        "id": "Nal4-Wbe9UD1",
        "colab_type": "text"
      },
      "source": [
        "#**Teoria**\n",
        "---\n",
        "- Dicionários são estruturas compostas das quais podemos colocar índices literais, personalizando os índices.\n",
        "- Para declarar um dicionário, se usa chaves {} ou dict()\n",
        "- Para personalizar o índice, é só colocar o nome do índice ao lado do valor: <br>`dados = {'nome':'Pedro', 'idade': 25}`</br>\n",
        "`print(dados['nome'])` - Pedro </br>\n",
        "`print(dados['idade'])` - 25</br>\n",
        "- Para adicionar itens ao dicionário, não se usa o *append*, apenas é necessário criar um novo elemento:</br>\n",
        "`dados['sexo'] = 'M'`\n",
        "- Para deletar algum elemento, se usa o comando *del*:</br>\n",
        "`del dados['idade']`\n",
        "- Pode-se fechar as chaves em outra linha, pra se organizar melhor. E há três formas de chamar todos os valores das chaves:</br>\n",
        "```\n",
        "filme = {'título': 'Star Wars'\n",
        "'ano': 1977\n",
        "'diretor': 'George Lucas'\n",
        "}\n",
        "```\n",
        "`print(filme.values())` - Printa os valores das variáveis.</br>\n",
        "`print(filme.keys())` - Printa os nomes das variáveis.</br>\n",
        "`print(filme.items())` - Printa tudo, variáveis e valores.</br>\n",
        "- Com isso, pode se usar isso em laços, como *for*:</br>\n",
        "```\n",
        "for k, v in filme.items():\n",
        "  print(f'O {k} é {v}.)\n",
        "```\n",
        "- Por fim, pode-se usar listas e tuplas em dicionários:\n",
        "```\n",
        "locadora = [{'título': 'Star Wars, 'ano': 1977}, \n",
        "{'título': Matrix, 'ano': 1999}]\n",
        "```\n",
        "`print(locadora[0]['ano'])` - 1977</br>\n",
        "`print(locadora[1]['título'])` - Matrix\n",
        "\n",
        "\n"
      ]
    },
    {
      "cell_type": "code",
      "metadata": {
        "id": "r0piMPWC9I7_",
        "colab_type": "code",
        "colab": {}
      },
      "source": [
        "filme = {'título': 'Star Wars',\n",
        "         'ano': 1977,\n",
        "         'diretor': 'George Lucas'\n",
        "         }\n",
        "print(filme.values())\n",
        "print(filme.keys())\n",
        "print(filme.items())\n",
        "for k, v in filme.items():\n",
        "  print(f'O {k} é {v}.')"
      ],
      "execution_count": null,
      "outputs": []
    },
    {
      "cell_type": "code",
      "metadata": {
        "id": "LqL4laKenYLd",
        "colab_type": "code",
        "colab": {}
      },
      "source": [
        "nomes = {'nome': 'Renan',\n",
        "         'idade': '22 anos'\n",
        "         }\n",
        "nomes['nome'] = 'Bia' #altera ou adiciona dados ao dicionário\n",
        "nomes['idade'] = '24 anos'\n",
        "nomes['Cor de cabelo'] = 'Ruiva'\n",
        "print(f'{nomes[\"nome\"]} tem {nomes[\"idade\"]} de idade e é {nomes[\"Cor de cabelo\"]}')"
      ],
      "execution_count": null,
      "outputs": []
    },
    {
      "cell_type": "code",
      "metadata": {
        "id": "-g9Av27lt93S",
        "colab_type": "code",
        "colab": {}
      },
      "source": [
        "#adicionar dicionários em listas\n",
        "brasil = list()\n",
        "estado1 = {'uf': 'São Paulo', 'sigla': 'SP'}\n",
        "estado2 = {'uf': 'Paraná', 'sigla': 'PR'}\n",
        "brasil.append(estado1)\n",
        "brasil.append(estado2)\n",
        "\n",
        "print(brasil)\n",
        "print(brasil[0], brasil[1])\n",
        "print(brasil[0]['sigla'])\n",
        "print(brasil[1]['sigla'])"
      ],
      "execution_count": null,
      "outputs": []
    },
    {
      "cell_type": "code",
      "metadata": {
        "id": "YDffx5Wlvr4T",
        "colab_type": "code",
        "colab": {}
      },
      "source": [
        "#adicionando dicionários inseridos em listas\n",
        "brasil = list()\n",
        "estado = dict()\n",
        "\n",
        "for c in range(0, 3):\n",
        "  estado['uf'] = str(input('UF do estado: '))\n",
        "  estado['sigla'] = str(input('Sigla do estado: '))\n",
        "  brasil.append(estado.copy()) #o copy() faz a mesma função do [:] nas listas\n",
        "print('-'*15)\n",
        "for e in brasil:  \n",
        "  for v in e.values():  \n",
        "    print(v, end=' ')\n",
        "  print()\n",
        "print('-'*15)"
      ],
      "execution_count": null,
      "outputs": []
    },
    {
      "cell_type": "markdown",
      "metadata": {
        "id": "YzCdlb6H3etY",
        "colab_type": "text"
      },
      "source": [
        "#**Prática (Exercícios)**\n",
        "---"
      ]
    },
    {
      "cell_type": "markdown",
      "metadata": {
        "id": "hEls60sz3mcD",
        "colab_type": "text"
      },
      "source": [
        "**Exercício Python 090:** \n",
        "<br>Faça um programa que leia nome e média de um aluno, guardando também a situação em um dicionário. No final, mostre o conteúdo da estrutura na tela."
      ]
    },
    {
      "cell_type": "code",
      "metadata": {
        "id": "dQ8WesaNkzn6",
        "colab_type": "code",
        "colab": {}
      },
      "source": [
        "#minha solução\n",
        "aluno = dict()\n",
        "nome = str(input('Nome do Aluno: '))\n",
        "media = float(input(f'Média do aluno {nome}: '))\n",
        "\n",
        "aluno['nome'] = nome\n",
        "aluno['media'] = media\n",
        "print('-'*20)\n",
        "print(f'Nome do aluno: {nome}')\n",
        "print(f'Média do aluno: {media}')\n",
        "if aluno['media'] > 5:\n",
        "  print('Status do aluno: APROVADO')\n",
        "elif aluno ['media'] > 3 and aluno['media'] <= 5:\n",
        "  print('Status do aluno: RECUPERAÇÃO')\n",
        "else:\n",
        "  print('Status do aluno: REPROVADO')"
      ],
      "execution_count": null,
      "outputs": []
    },
    {
      "cell_type": "code",
      "metadata": {
        "id": "GJ_Nf_R_cSLc",
        "colab_type": "code",
        "colab": {}
      },
      "source": [
        "#corrigido e melhorado\n",
        "aluno = dict()\n",
        "aluno['nome'] = str(input('Nome do aluno: '))\n",
        "aluno['media'] = float(input(f'Nota do aluno {aluno[\"nome\"]}: '))\n",
        "\n",
        "if aluno['media'] >= 7:\n",
        "  aluno['situação'] = 'APROVADO'\n",
        "elif 5 <= aluno['media'] < 7:\n",
        "  aluno['situação'] = 'RECUPERAÇÃO'\n",
        "else:\n",
        "  aluno['situação'] = 'REPROVADO'\n",
        "\n",
        "#print(aluno)\n",
        "print('-'*30)\n",
        "print(f'Aluno: {aluno[\"nome\"]}\\nMédia: {aluno[\"media\"]}\\nSituação atual: {aluno[\"situação\"]}')\n",
        "print('-'*30)\n",
        "for k, v in aluno.items():\n",
        "  print(f'{k} -> {v}')"
      ],
      "execution_count": null,
      "outputs": []
    },
    {
      "cell_type": "markdown",
      "metadata": {
        "id": "Id9qrdXBiNLF",
        "colab_type": "text"
      },
      "source": [
        "**Exercício Python 091:** </br>\n",
        "Crie um programa onde 4 jogadores joguem um dado e tenham resultados aleatórios. Guarde esses resultados em um dicionário em Python. No final, coloque esse dicionário em ordem, sabendo que o vencedor tirou o maior número no dado."
      ]
    },
    {
      "cell_type": "code",
      "metadata": {
        "id": "HnwQaVdmj1VY",
        "colab_type": "code",
        "colab": {}
      },
      "source": [
        "#minha solução\n",
        "from random import randint\n",
        "from time import sleep\n",
        "jogadores = dict()\n",
        "ordem = list()\n",
        "corte = '-'*15\n",
        "\n",
        "print(f'{corte}JOGO DE DADOS{corte}')\n",
        "for c in range(1, 5):\n",
        "  jogador = str(input(f'Nome do jogador nº{c}: '))\n",
        "  numero = randint(1, 6)\n",
        "  sleep(1)\n",
        "  print(f'Jogador {jogador} tirou {numero} no dado.')\n",
        "  jogadores[jogador] = numero\n",
        "  print(corte)\n",
        "\n",
        "#organizando os valores\n",
        "for k, v in jogadores.items():\n",
        "  ordem.append((v, k))\n",
        "#print(jogadores)\n",
        "ordem.sort(reverse=True)\n",
        "#print(ordem)\n",
        "print('Lista Organizada: ')\n",
        "for v, k in enumerate(ordem):\n",
        "  print(f'{v+1}º {k[1]:<10} -> {k[0]}')\n",
        "  sleep(0.5)"
      ],
      "execution_count": null,
      "outputs": []
    },
    {
      "cell_type": "code",
      "metadata": {
        "id": "9i_WGX1I2bth",
        "colab_type": "code",
        "colab": {}
      },
      "source": [
        "#solução guanabara\n",
        "from random import randint\n",
        "from time import sleep\n",
        "from operator import itemgetter #organiza itens de dicionários, 0 para a key e 1 para os valores\n",
        "\n",
        "jogo = {'J1': randint(1, 6),\n",
        "        'J2': randint(1, 6),\n",
        "        'J3': randint(1, 6),\n",
        "        'J4': randint(1, 6)}\n",
        "\n",
        "for k, v in jogo.items():\n",
        "  print(f'{k} tirou {v} no dado')\n",
        "  sleep(0.5)\n",
        "#organizando valores\n",
        "rank = sorted(jogo.items(), key=itemgetter(1), reverse=True)\n",
        "\n",
        "print('-'*15)\n",
        "print('ORDEM DOS JOGADORES: ')\n",
        "for i, v in enumerate(rank):\n",
        "  print(f'{i+1}º LUGAR: {v[0]} ({v[1]})')"
      ],
      "execution_count": null,
      "outputs": []
    },
    {
      "cell_type": "markdown",
      "metadata": {
        "id": "aD4elRHxv-WR",
        "colab_type": "text"
      },
      "source": [
        "**Exercício Python 092:** </br>\n",
        "Crie um programa que leia nome, ano de nascimento e carteira de trabalho e cadastre-o (com idade) em um dicionário. Se por acaso a CTPS for diferente de ZERO, o dicionário receberá também o ano de contratação e o salário. Calcule e acrescente, além da idade, com quantos anos a pessoa vai se aposentar."
      ]
    },
    {
      "cell_type": "code",
      "metadata": {
        "id": "5Jzcif9cwgRx",
        "colab_type": "code",
        "colab": {}
      },
      "source": [
        "from datetime import date\n",
        "ano = date.today().year\n",
        "\n",
        "dados = dict()\n",
        "\n",
        "nome = str(input('Nome: '))\n",
        "nasc = int(input('Ano de nascimento: '))\n",
        "ctps = int(input('Carteira de Trabalho (0 não tem): '))\n",
        "\n",
        "dados['nome'] = nome\n",
        "dados['idade'] = ano - nasc\n",
        "dados['ctps'] = ctps\n",
        "\n",
        "if dados['ctps'] != 0:\n",
        "  contrato = int(input('Ano de contratação: '))\n",
        "  salário = float(input('Salário: R$'))\n",
        "\n",
        "  #idadecontr = ano - contrato\n",
        "  #aposentadoria = (dados['idade'] - idadecontr) + 35\n",
        "\n",
        "  dados['contratação'] = contrato\n",
        "  dados['salário'] = salário\n",
        "  dados['aposentadoria'] = dados['idade'] + ((dados['contratação'] + 35) - ano)\n",
        "\n",
        "print('-' * 30)\n",
        "\n",
        "for k, v in dados.items():\n",
        "  print(f'{k} -> {v}')\n",
        "\n",
        "#print(dados)"
      ],
      "execution_count": null,
      "outputs": []
    },
    {
      "cell_type": "markdown",
      "metadata": {
        "id": "3xtrS3VsF09F",
        "colab_type": "text"
      },
      "source": [
        "**Exercício Python 093:**</br>\n",
        "Crie um programa que gerencie o aproveitamento de um jogador de futebol. O programa vai ler o nome do jogador e quantas partidas ele jogou. Depois vai ler a quantidade de gols feitos em cada partida. No final, tudo isso será guardado em um dicionário, incluindo o total de gols feitos durante o campeonato."
      ]
    },
    {
      "cell_type": "code",
      "metadata": {
        "id": "uSe9_PhaYkej",
        "colab_type": "code",
        "colab": {}
      },
      "source": [
        "#minha solução\n",
        "dados = dict()\n",
        "gols = list()\n",
        "\n",
        "print('DADOS DE APROVEITAMENTO')\n",
        "dados['nome'] = str(input('Nome do jogador: '))\n",
        "dados['partidas'] = int(input(f'Partidas jogadas do jogador {dados[\"nome\"]}: '))\n",
        "\n",
        "for p in range(dados['partidas']):\n",
        "  gol = int(input(f'Gols na {p+1}º partida: '))\n",
        "  gols.append(gol)\n",
        "\n",
        "dados['gols'] = gols[:]\n",
        "dados['total'] = sum(gols)\n",
        "\n",
        "print(dados)\n",
        "print('-'*30)\n",
        "#mostrando os dados do dicionário\n",
        "for k, v in dados.items():\n",
        "  print(f'{k} -> {v}')\n",
        "print('-'*30)\n",
        "\n",
        "#mostrando os dados de cada partida\n",
        "print(f'O jogador {dados[\"nome\"]} jogou {dados[\"partidas\"]} partidas na temporada.')\n",
        "for i, v in enumerate(dados['gols']):\n",
        "  print(f'Na {i+1}ª partida marcou {v} gols.')\n",
        "print(f'Total de gols na temporada: {dados[\"total\"]}')"
      ],
      "execution_count": null,
      "outputs": []
    },
    {
      "cell_type": "markdown",
      "metadata": {
        "id": "7QtVzPfeuT72",
        "colab_type": "text"
      },
      "source": [
        "**Exercício Python 094:**</br>\n",
        "Crie um programa que leia nome, sexo e idade de várias pessoas, guardando os dados de cada pessoa em um dicionário e todos os dicionários em uma lista. No final, mostre: </br>\n",
        "*A) Quantas pessoas foram cadastradas* </br>\n",
        "*B) A média de idade* </br>\n",
        "*C) Uma lista com as mulheres* </br>\n",
        "*D) Uma lista de pessoas com idade acima da média*\n"
      ]
    },
    {
      "cell_type": "code",
      "metadata": {
        "id": "AVzzf-s_hPXu",
        "colab_type": "code",
        "colab": {}
      },
      "source": [
        "#minha solução\n",
        "from math import trunc\n",
        "dados = dict()\n",
        "pessoas = list()\n",
        "mulheres = list()\n",
        "acimadamedia = list()\n",
        "somaidade = 0\n",
        "#loop para coletar quantos dados o usuário quiser\n",
        "while True:\n",
        "  #começo dos dados inseridos\n",
        "  dados.clear()\n",
        "  nome = str(input('Nome: '))\n",
        "  sexo = str(input('Sexo [M/F]: ')).upper().strip()[0]\n",
        "  while sexo not in 'MF': #para negar dados errados\n",
        "    print('Erro, digite novamente.')\n",
        "    sexo = str(input('Sexo [M/F]: ')).upper().strip()[0]\n",
        "  if sexo == 'F':\n",
        "    mulheres.append(nome)  \n",
        "  idade = int(input('Idade: '))\n",
        "  cont = str(input('Quer continuar? [S/N]: ')).strip().upper()[0]\n",
        "  dados['nome'] = nome\n",
        "  dados['sexo'] = sexo\n",
        "  dados['idade'] = idade\n",
        "  pessoas.append(dados.copy()) #envia o dicionário para a lista\n",
        "  while cont not in 'SN':\n",
        "    print('Erro, digite novamente.')\n",
        "    cont = str(input('Quer continuar? [S/N]: ')).strip().upper()[0]\n",
        "  if cont == 'N':\n",
        "    break\n",
        "  #fim do loop de coleta de dados\n",
        "  print('-'*30)\n",
        "\n",
        "for i, v in enumerate(pessoas):\n",
        "  somaidade += pessoas[i]['idade']\n",
        "media = somaidade / len(pessoas)\n",
        "\n",
        "for i, v in enumerate(pessoas):\n",
        "  if pessoas[i]['idade'] > media:\n",
        "    acimadamedia.append(pessoas[i]['nome'])\n",
        "#dados mostrados\n",
        "print('-'*30)\n",
        "print(f'Número de pessoas cadastradas: {len(pessoas)}')\n",
        "print(f'Média de idade aproximada: {trunc(media)}')\n",
        "if len(mulheres) == 0:\n",
        "  print('Nenhuma mulher foi cadastrada na lista.')\n",
        "elif len(mulheres) == 1:\n",
        "  print(f'Uma mulher foi cadastrada: {mulheres}')\n",
        "else:\n",
        "  print(f'{len(mulheres)} mulheres foram cadastradas na lista: {mulheres}')\n",
        "\n",
        "print(f'Quem tem idade acima da média: {acimadamedia}')"
      ],
      "execution_count": null,
      "outputs": []
    },
    {
      "cell_type": "code",
      "metadata": {
        "id": "qmJ8kYJZ4fe8",
        "colab_type": "code",
        "colab": {}
      },
      "source": [
        "#solução guanabara\n",
        "pessoa = dict()\n",
        "galera = list()\n",
        "soma = media = 0\n",
        "\n",
        "while True:\n",
        "  pessoa.clear()\n",
        "  pessoa['nome'] = str(input('Nome: '))\n",
        "  while True:\n",
        "    pessoa['sexo'] = str(input('Sexo [M/F]: ')).upper().strip()[0]\n",
        "    if pessoa['sexo'] in 'MF':\n",
        "      break\n",
        "    print('Erro, digite novamente.')\n",
        "  pessoa['idade'] = int(input('Idade: '))\n",
        "  soma += pessoa['idade']\n",
        "  galera.append(pessoa.copy())\n",
        "  while True:\n",
        "    cont = str(input('Quer continuar? [S/N]: ')).upper().strip()[0]\n",
        "    if cont in 'SN':\n",
        "      break\n",
        "    print('Erro, digite novamente.')\n",
        "  if cont == 'N':\n",
        "    break\n",
        "\n",
        "media = soma / len(galera)\n",
        "print('-'*30)\n",
        "\n",
        "print(f'Total: {len(galera)}')\n",
        "print(f'Média: {media:5.2f}')\n",
        "print('Mulheres cadastradas: ', end='')\n",
        "for p in galera:\n",
        "  if p['sexo'] == 'F':\n",
        "    print(f'{p[\"nome\"]}', end='')\n",
        "print()\n",
        "print('Pessoas acima da média: ')\n",
        "for p in galera:\n",
        "  if p['idade'] >= media:\n",
        "    print('      ', end='')\n",
        "    for k, v in p.items():\n",
        "      print(f'({k}: {v}) -', end=' ')\n",
        "    print()\n",
        "print('Fim de programa.')"
      ],
      "execution_count": null,
      "outputs": []
    },
    {
      "cell_type": "markdown",
      "metadata": {
        "id": "t-aqoPVA-N3f",
        "colab_type": "text"
      },
      "source": [
        "**Exercício Python 095:**</br>\n",
        "Aprimore o desafio 93 para que ele funcione com vários jogadores, incluindo um sistema de visualização de detalhes do aproveitamento de cada jogador."
      ]
    },
    {
      "cell_type": "code",
      "metadata": {
        "id": "gEJauA1iNQYw",
        "colab_type": "code",
        "colab": {}
      },
      "source": [
        "time = list()\n",
        "jogador = dict()\n",
        "partidas = list()\n",
        "#leitura dos dados\n",
        "while True:\n",
        "  jogador.clear()\n",
        "  jogador['nome'] = str(input('Nome do jogador: '))\n",
        "  tot = int(input(f'Partidas jogadas de {jogador[\"nome\"]}: '))\n",
        "  partidas.clear()\n",
        "  for c in range(0, tot):\n",
        "    partidas.append(int(input(f'  Gols na partida {c+1}: ')))\n",
        "  jogador['gols'] = partidas[:]\n",
        "  jogador['total'] = sum(partidas)\n",
        "  time.append(jogador.copy())\n",
        "  while True:\n",
        "    resp = str(input('Quer continuar? [S/N]: ')).upper()[0]\n",
        "    if resp in 'SN':\n",
        "      break\n",
        "    print('Erro, digite novamente.')\n",
        "  if resp == 'N':\n",
        "    break\n",
        "#resultados\n",
        "print('-'*30)\n",
        "print('cod ', end='')\n",
        "for i in jogador.keys():\n",
        "  print(f'{i:<15}', end='')\n",
        "print()\n",
        "for k, v in enumerate(time):\n",
        "  print(f'{k:>3} ', end='')\n",
        "  for i in v.values():\n",
        "    print(f'{str(i):<15}', end='')\n",
        "  print()\n",
        "print('-'*30)\n",
        "while True:\n",
        "  busca = int(input('Mostrar os dados de qual jogador? (999 para parar): '))\n",
        "  print('-'*30)\n",
        "  if busca == 999:\n",
        "    break\n",
        "  if busca >= len(time):\n",
        "    print('Erro, digite novamente.')\n",
        "  else:\n",
        "    print(f'Levantamento do jogador {time[busca][\"nome\"]}')\n",
        "    for i, g in enumerate(time[busca]['gols']):\n",
        "      print(f'  Na {i+1}ª partida o jogador fez {g} gols.')\n",
        "  print('-'*30)"
      ],
      "execution_count": null,
      "outputs": []
    }
  ]
}