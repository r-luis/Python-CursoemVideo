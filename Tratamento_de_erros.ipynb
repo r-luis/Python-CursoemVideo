{
  "nbformat": 4,
  "nbformat_minor": 0,
  "metadata": {
    "colab": {
      "name": "Tratamento de erros.ipynb",
      "provenance": [],
      "authorship_tag": "ABX9TyNB93T/UQfqnZ0AILEIkAH5",
      "include_colab_link": true
    },
    "kernelspec": {
      "name": "python3",
      "display_name": "Python 3"
    }
  },
  "cells": [
    {
      "cell_type": "markdown",
      "metadata": {
        "id": "view-in-github",
        "colab_type": "text"
      },
      "source": [
        "<a href=\"https://colab.research.google.com/github/r-luis/Python-CursoemVideo/blob/master/Tratamento_de_erros.ipynb\" target=\"_parent\"><img src=\"https://colab.research.google.com/assets/colab-badge.svg\" alt=\"Open In Colab\"/></a>"
      ]
    },
    {
      "cell_type": "markdown",
      "metadata": {
        "id": "kbo2hP4S4oJk"
      },
      "source": [
        "#**Teoria**\n",
        "---\n",
        "- Erros comuns: Erros de sintaxe\n",
        "- Exceções: NameError, ValueError, ZeroDivisionError, TypeError, IndexError, KeyError, ModuleNotFoundError, entre muitos outros...\n",
        "- Para começar a tratar, usa-se try / except, e opcionalmente else / finally\n",
        "\n",
        "https://docs.python.org/3/library/exceptions.html"
      ]
    },
    {
      "cell_type": "code",
      "metadata": {
        "id": "CPzWcSJu3eO2"
      },
      "source": [
        "#exemplo de tratamento de dados\n",
        "try:\n",
        "  a = int(input('Numerador: '))\n",
        "  b = int(input('Denominador: '))\n",
        "  r = a / b\n",
        "\n",
        "#erros específicos (pode colocar vários excepts em um try)\n",
        "except (ValueError, TypeError):\n",
        "  print('Problema no tipo dos dados inseridos.')\n",
        "except ZeroDivisionError:\n",
        "  print('Divisão por zero não existe.')\n",
        "except KeyboardInterrupt:\n",
        "  print('O usuário preferiu não digitar os dados.')\n",
        "\n",
        "#erro genérico formatado\n",
        "except Exception as erro:\n",
        "  print(f'Erro encontrado: {erro.__class__}')\n",
        "\n",
        "#funciona caso não haja erros\n",
        "else:\n",
        "  print(f'O resultado é {r}')\n",
        "  \n",
        "#funciona tendo erros no programa ou não\n",
        "finally:\n",
        "  print('Volte sempre!')"
      ],
      "execution_count": null,
      "outputs": []
    },
    {
      "cell_type": "markdown",
      "metadata": {
        "id": "XBixTubF_wSH"
      },
      "source": [
        "#**Prática**\n",
        "---"
      ]
    },
    {
      "cell_type": "markdown",
      "metadata": {
        "id": "XFJTQjjQ_zTD"
      },
      "source": [
        "**Exercício Python 113:** \n",
        "<br>Reescreva a função leiaInt() que fizemos no desafio 104, incluindo agora a possibilidade da digitação de um número de tipo inválido. Aproveite e crie também uma função leiaFloat() com a mesma funcionalidade."
      ]
    },
    {
      "cell_type": "code",
      "metadata": {
        "id": "cvCD4XoM_zxU"
      },
      "source": [
        "def leiaInt(msg):\n",
        "  while True:\n",
        "    try:\n",
        "      n = int(input(msg))\n",
        "    except (ValueError, TypeError):\n",
        "      print('Erro, digite novamente.')\n",
        "      continue\n",
        "    except:\n",
        "      print('Erro inesperado.')\n",
        "      return 0\n",
        "    else:\n",
        "      return n\n",
        "\n",
        "\n",
        "def leiaFloat(msg):\n",
        "  while True:\n",
        "    try:\n",
        "      n = float(input(msg))\n",
        "    except (ValueError, TypeError):\n",
        "      print('Erro, digite novamente.')\n",
        "      continue\n",
        "    except:\n",
        "      print('Erro inesperado.')\n",
        "      return 0\n",
        "    else:\n",
        "      return n"
      ],
      "execution_count": 32,
      "outputs": []
    },
    {
      "cell_type": "code",
      "metadata": {
        "id": "YSO_vDu8MJIw"
      },
      "source": [
        "inte = leiaInt('Digite um número INTEIRO: ')\n",
        "flu = leiaFloat('Digite um número REAL: ')\n",
        "\n",
        "print(f'O número inteiro digitado foi {inte}; \\nO número real digitado foi {flu}')"
      ],
      "execution_count": null,
      "outputs": []
    },
    {
      "cell_type": "markdown",
      "metadata": {
        "id": "nW9K2PR7hb7j"
      },
      "source": [
        "**Exercício Python 114:** \n",
        "<br>Crie um código em Python que teste se o site pudim está acessível pelo computador usado."
      ]
    },
    {
      "cell_type": "code",
      "metadata": {
        "id": "ERz9bWbPhgSX"
      },
      "source": [
        "from urllib.request import urlopen\n",
        "from urllib.error import HTTPError\n",
        "from urllib.error import URLError\n",
        "\n",
        "url = 'http://pudim.com.br/'\n",
        "try:\n",
        "  http = urlopen(url)\n",
        "\n",
        "except HTTPError as e:\n",
        "  print(e)\n",
        "except URLError as e:\n",
        "  print('O site não está acessível')\n",
        "  \n",
        "else:\n",
        "  print('O site está acessível')"
      ],
      "execution_count": null,
      "outputs": []
    },
    {
      "cell_type": "markdown",
      "metadata": {
        "id": "wb-juR1UC2qK"
      },
      "source": [
        "**Exercício 115:**\n",
        "\n",
        "Crie um menu interativo que cadastre nome e idade, e guarde esses nomes dentro de um arquivo para que não se percam quando o programa é encerrado."
      ]
    },
    {
      "cell_type": "code",
      "metadata": {
        "id": "wxZp26fhCzPX"
      },
      "source": [
        "#lib interface\n",
        "\n",
        "def linha(tam=42):\n",
        "    return '-' * tam\n",
        "\n",
        "def cabeçalho(txt):\n",
        "    print(linha())\n",
        "    print(txt.center(42))\n",
        "    print(linha())\n",
        "\n",
        "def menu(lista):\n",
        "    cabeçalho('MENU PRINCIPAL')\n",
        "    c = 1\n",
        "    for item in lista:\n",
        "        print(f'{c} - {item}')\n",
        "        c += 1\n",
        "    print(linha())\n",
        "    opc = leiaInt('Sua Opção: ')\n",
        "    return opc\n",
        "\n",
        "def leiaInt(msg):\n",
        "  while True:\n",
        "    try:\n",
        "      n = int(input(msg))\n",
        "    except (ValueError, TypeError):\n",
        "      print('Erro, digite novamente.')\n",
        "      continue\n",
        "    except:\n",
        "      print('Erro inesperado.')\n",
        "      return 0\n",
        "    else:\n",
        "      return n"
      ],
      "execution_count": null,
      "outputs": []
    },
    {
      "cell_type": "code",
      "metadata": {
        "id": "JiriGUEGDMsj"
      },
      "source": [
        "#lib arquivo\n",
        "from ex115.lib.interface import *\n",
        "\n",
        "def arquivoExiste(nome):\n",
        "    try:\n",
        "        a = open(nome, 'rt')\n",
        "        a.close()\n",
        "    except FileNotFoundError:\n",
        "        return False\n",
        "    else:\n",
        "        return True\n",
        "\n",
        "def criarArquivo(nome):\n",
        "    try:\n",
        "        a = open(nome, 'wt+')\n",
        "        a.close()\n",
        "    except:\n",
        "        print('Houve um erro na criação do arquivo.')\n",
        "    else:\n",
        "        print(f'Arquivo {nome} criado com sucesso.')\n",
        "\n",
        "def lerArquivo(nome):\n",
        "    try:\n",
        "        a = open(nome, 'rt')\n",
        "    except:\n",
        "        print('Erro de leitura.')\n",
        "    else:\n",
        "        cabeçalho('Pessoas cadastradas: ')\n",
        "        for l in a:\n",
        "            dado = l.split(';')\n",
        "            dado[1] = dado[1].replace('\\n', '')\n",
        "            print(f'{dado[0]:<30}{dado[1]:>3} anos')\n",
        "        print(linha())\n",
        "\n",
        "    finally:\n",
        "        a.close()\n",
        "\n",
        "def cadastrar(arq, nome='desconhecido', idade=0):\n",
        "    try:\n",
        "        a = open(arq, 'at')\n",
        "    except:\n",
        "        print('Erro na abertura do arquivo')\n",
        "    else:\n",
        "        try:\n",
        "            a.write(f'{nome};{idade}\\n')\n",
        "        except:\n",
        "            print('Erro na hora de escrever os dados.')\n",
        "        else:\n",
        "            print(f'Cadastro de {nome} adicionado!')\n",
        "            a.close()"
      ],
      "execution_count": null,
      "outputs": []
    },
    {
      "cell_type": "code",
      "metadata": {
        "id": "opqiOQFZDU-V"
      },
      "source": [
        "#programa principal\n",
        "from ex115.lib.interface import *\n",
        "from ex115.lib.arquivo import *\n",
        "from time import sleep\n",
        "\n",
        "arq = 'dados.txt'\n",
        "\n",
        "if not arquivoExiste(arq):\n",
        "    criarArquivo(arq)\n",
        "\n",
        "while True:\n",
        "    resp = menu(['Listar Pessoas', 'Cadastrar Pessoa', 'Sair do Programa'])\n",
        "    if resp == 1:\n",
        "        #Listar conteúdo do arquivo\n",
        "        lerArquivo(arq)\n",
        "    elif resp == 2:\n",
        "        #Cadastrar nova pessoa\n",
        "        cabeçalho('NOVO CADASTRO')\n",
        "        nome = str(input('Nome: '))\n",
        "        idade = leiaInt('Idade: ')\n",
        "        cadastrar(arq, nome, idade)\n",
        "    elif resp == 3:\n",
        "        cabeçalho('Saindo do sistema...')\n",
        "        break\n",
        "    else:\n",
        "        cabeçalho('Opção errada.')\n",
        "    sleep(1)"
      ],
      "execution_count": null,
      "outputs": []
    }
  ]
}